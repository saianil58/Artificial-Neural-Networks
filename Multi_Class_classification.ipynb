{
 "cells": [
  {
   "cell_type": "markdown",
   "metadata": {
    "colab_type": "text",
    "id": "zUZjPnVXGz0Z"
   },
   "source": [
    "# The Iris Dataset\n",
    "The data set consists of 50 samples from each of three species of Iris (Iris setosa, Iris virginica and Iris versicolor). Four features were measured from each sample: the length and the width of the sepals and petals, in centimeters.\n",
    "\n",
    "The dataset contains a set of 150 records under five attributes - petal length, petal width, sepal length, sepal width and species."
   ]
  },
  {
   "cell_type": "markdown",
   "metadata": {
    "colab_type": "text",
    "id": "RMbmpriavLE9"
   },
   "source": [
    "### Specifying the TensorFlow version\n",
    "Running `import tensorflow` will import the default version (currently 1.x). You can use 2.x by running a cell with the `tensorflow_version` magic **before** you run `import tensorflow`."
   ]
  },
  {
   "cell_type": "code",
   "execution_count": 1,
   "metadata": {
    "colab": {},
    "colab_type": "code",
    "id": "fu8bUU__oa7h"
   },
   "outputs": [
    {
     "name": "stderr",
     "output_type": "stream",
     "text": [
      "UsageError: Line magic function `%tensorflow_version` not found.\n"
     ]
    }
   ],
   "source": [
    "# %tensorflow_version 2.x\n",
    "# this is not required as we have tensorflow 2 installed"
   ]
  },
  {
   "cell_type": "markdown",
   "metadata": {
    "colab_type": "text",
    "id": "bLz1Ckvfvn6D"
   },
   "source": [
    "### Import TensorFlow\n",
    "Once you have specified a version via this magic, you can run `import tensorflow` as normal and verify which version was imported as follows:"
   ]
  },
  {
   "cell_type": "code",
   "execution_count": 2,
   "metadata": {
    "colab": {},
    "colab_type": "code",
    "id": "CWrzVTLOvn6M"
   },
   "outputs": [
    {
     "name": "stdout",
     "output_type": "stream",
     "text": [
      "2.0.0\n"
     ]
    }
   ],
   "source": [
    "import tensorflow as tf\n",
    "print(tf.__version__)"
   ]
  },
  {
   "cell_type": "markdown",
   "metadata": {
    "colab_type": "text",
    "id": "_uYeJgkNuXNC"
   },
   "source": [
    "### Set random seed"
   ]
  },
  {
   "cell_type": "code",
   "execution_count": 3,
   "metadata": {
    "colab": {},
    "colab_type": "code",
    "id": "lcASNsewsfQX"
   },
   "outputs": [],
   "source": [
    "tf.random.set_seed(42)"
   ]
  },
  {
   "cell_type": "markdown",
   "metadata": {
    "colab_type": "text",
    "id": "5-vVQBBqg7DI"
   },
   "source": [
    "## Question 1"
   ]
  },
  {
   "cell_type": "markdown",
   "metadata": {
    "colab_type": "text",
    "id": "kE0EDKvQhEIe"
   },
   "source": [
    "### Import dataset\n",
    "- Import iris dataset\n",
    "- Import the dataset using sklearn library"
   ]
  },
  {
   "cell_type": "code",
   "execution_count": 5,
   "metadata": {
    "colab": {},
    "colab_type": "code",
    "id": "IOOWpD26Haq3"
   },
   "outputs": [],
   "source": [
    "from sklearn import datasets\n",
    "iris=datasets.load_iris()"
   ]
  },
  {
   "cell_type": "markdown",
   "metadata": {
    "colab_type": "text",
    "id": "ta8YqInTh5v5"
   },
   "source": [
    "## Question 2"
   ]
  },
  {
   "cell_type": "markdown",
   "metadata": {
    "colab_type": "text",
    "id": "HERt3drbhX0i"
   },
   "source": [
    "### Get features and label from the dataset in separate variable\n",
    "- you can get the features using .data method\n",
    "- you can get the features using .target method"
   ]
  },
  {
   "cell_type": "code",
   "execution_count": 7,
   "metadata": {
    "colab": {},
    "colab_type": "code",
    "id": "0cV-_qHAHyvE"
   },
   "outputs": [],
   "source": [
    "X=iris.data\n",
    "y=iris.target"
   ]
  },
  {
   "cell_type": "markdown",
   "metadata": {
    "colab_type": "text",
    "id": "Qg1A2lkUjFak"
   },
   "source": [
    "## Question 3"
   ]
  },
  {
   "cell_type": "markdown",
   "metadata": {
    "colab_type": "text",
    "id": "3YErwYLCH0N_"
   },
   "source": [
    "### Create train and test data\n",
    "- use train_test_split to get train and test set\n",
    "- set a random_state\n",
    "- test_size: 0.25"
   ]
  },
  {
   "cell_type": "code",
   "execution_count": 12,
   "metadata": {
    "colab": {},
    "colab_type": "code",
    "id": "TYKNJL85h7pQ"
   },
   "outputs": [],
   "source": [
    "from sklearn.model_selection import train_test_split\n",
    "X_train, X_test, y_train, y_test = train_test_split( X, y, test_size=0.25, random_state=42)"
   ]
  },
  {
   "cell_type": "code",
   "execution_count": 42,
   "metadata": {
    "scrolled": true
   },
   "outputs": [
    {
     "data": {
      "text/plain": [
       "array([[6.1, 2.8, 4.7, 1.2],\n",
       "       [5.7, 3.8, 1.7, 0.3],\n",
       "       [7.7, 2.6, 6.9, 2.3],\n",
       "       [6. , 2.9, 4.5, 1.5],\n",
       "       [6.8, 2.8, 4.8, 1.4],\n",
       "       [5.4, 3.4, 1.5, 0.4],\n",
       "       [5.6, 2.9, 3.6, 1.3],\n",
       "       [6.9, 3.1, 5.1, 2.3],\n",
       "       [6.2, 2.2, 4.5, 1.5],\n",
       "       [5.8, 2.7, 3.9, 1.2],\n",
       "       [6.5, 3.2, 5.1, 2. ],\n",
       "       [4.8, 3. , 1.4, 0.1],\n",
       "       [5.5, 3.5, 1.3, 0.2],\n",
       "       [4.9, 3.1, 1.5, 0.1],\n",
       "       [5.1, 3.8, 1.5, 0.3],\n",
       "       [6.3, 3.3, 4.7, 1.6],\n",
       "       [6.5, 3. , 5.8, 2.2],\n",
       "       [5.6, 2.5, 3.9, 1.1],\n",
       "       [5.7, 2.8, 4.5, 1.3],\n",
       "       [6.4, 2.8, 5.6, 2.2],\n",
       "       [4.7, 3.2, 1.6, 0.2],\n",
       "       [6.1, 3. , 4.9, 1.8],\n",
       "       [5. , 3.4, 1.6, 0.4],\n",
       "       [6.4, 2.8, 5.6, 2.1],\n",
       "       [7.9, 3.8, 6.4, 2. ],\n",
       "       [6.7, 3. , 5.2, 2.3],\n",
       "       [6.7, 2.5, 5.8, 1.8],\n",
       "       [6.8, 3.2, 5.9, 2.3],\n",
       "       [4.8, 3. , 1.4, 0.3],\n",
       "       [4.8, 3.1, 1.6, 0.2],\n",
       "       [4.6, 3.6, 1. , 0.2],\n",
       "       [5.7, 4.4, 1.5, 0.4],\n",
       "       [6.7, 3.1, 4.4, 1.4],\n",
       "       [4.8, 3.4, 1.6, 0.2],\n",
       "       [4.4, 3.2, 1.3, 0.2],\n",
       "       [6.3, 2.5, 5. , 1.9],\n",
       "       [6.4, 3.2, 4.5, 1.5],\n",
       "       [5.2, 3.5, 1.5, 0.2]])"
      ]
     },
     "execution_count": 42,
     "metadata": {},
     "output_type": "execute_result"
    }
   ],
   "source": [
    "X_test"
   ]
  },
  {
   "cell_type": "markdown",
   "metadata": {
    "colab_type": "text",
    "id": "g0KVP17Ozaix"
   },
   "source": [
    "## Question 4"
   ]
  },
  {
   "cell_type": "markdown",
   "metadata": {
    "colab_type": "text",
    "id": "SIjqxbhWv1zv"
   },
   "source": [
    "### One-hot encode the labels\n",
    "- convert class vectors (integers) to binary class matrix\n",
    "- convert labels\n",
    "- number of classes: 3\n",
    "- we are doing this to use categorical_crossentropy as loss"
   ]
  },
  {
   "cell_type": "code",
   "execution_count": 37,
   "metadata": {
    "colab": {},
    "colab_type": "code",
    "id": "R9vv-_gpyLY9"
   },
   "outputs": [],
   "source": [
    "from tensorflow.keras.utils import to_categorical\n",
    "data = y_train\n",
    "data = array(data)\n",
    "# one hot encode\n",
    "y_train_encoded = to_categorical(data)\n",
    "data = y_test\n",
    "data = array(data)\n",
    "# one hot encode\n",
    "y_test_encoded = to_categorical(data)"
   ]
  },
  {
   "cell_type": "markdown",
   "metadata": {
    "colab_type": "text",
    "id": "ovjLyYzWkO9s"
   },
   "source": [
    "## Question 5"
   ]
  },
  {
   "cell_type": "markdown",
   "metadata": {
    "colab_type": "text",
    "id": "hbIFzoPNSyYo"
   },
   "source": [
    "### Initialize a sequential model\n",
    "- Define a sequential model"
   ]
  },
  {
   "cell_type": "code",
   "execution_count": 24,
   "metadata": {
    "colab": {},
    "colab_type": "code",
    "id": "4FvSbf1UjHtl"
   },
   "outputs": [],
   "source": [
    "from tensorflow.keras.models import Sequential\n",
    "model=Sequential()"
   ]
  },
  {
   "cell_type": "markdown",
   "metadata": {
    "colab_type": "text",
    "id": "dGMy999vlacX"
   },
   "source": [
    "## Question 6"
   ]
  },
  {
   "cell_type": "markdown",
   "metadata": {
    "colab_type": "text",
    "id": "72ibK5Jxm8iL"
   },
   "source": [
    "### Add a layer\n",
    "- Use Dense Layer  with input shape of 4 (according to the feature set) and number of outputs set to 3\n",
    "- Apply Softmax on Dense Layer outputs"
   ]
  },
  {
   "cell_type": "code",
   "execution_count": 29,
   "metadata": {
    "colab": {},
    "colab_type": "code",
    "id": "uZKrBNSRm_o9"
   },
   "outputs": [],
   "source": [
    "#input layer\n",
    "model.add(tf.keras.layers.Dense(16,input_shape=(4,), activation='relu'))"
   ]
  },
  {
   "cell_type": "code",
   "execution_count": 30,
   "metadata": {},
   "outputs": [],
   "source": [
    "#hidden layer\n",
    "model.add(tf.keras.layers.Dense(5, activation='relu'))"
   ]
  },
  {
   "cell_type": "code",
   "execution_count": 31,
   "metadata": {},
   "outputs": [],
   "source": [
    "# output layer\n",
    "model.add(tf.keras.layers.Dense(3,activation='softmax'))"
   ]
  },
  {
   "cell_type": "markdown",
   "metadata": {
    "colab_type": "text",
    "id": "i4uiTH8plmNX"
   },
   "source": [
    "## Question 7"
   ]
  },
  {
   "cell_type": "markdown",
   "metadata": {
    "colab_type": "text",
    "id": "yJL8n8vcSyYz"
   },
   "source": [
    "### Compile the model\n",
    "- Use SGD as Optimizer\n",
    "- Use categorical_crossentropy as loss function\n",
    "- Use accuracy as metrics"
   ]
  },
  {
   "cell_type": "code",
   "execution_count": 32,
   "metadata": {
    "colab": {},
    "colab_type": "code",
    "id": "Tc_-fjIEk1ve"
   },
   "outputs": [],
   "source": [
    "model.compile(optimizer='SGD',loss='categorical_crossentropy',metrics=['accuracy'])"
   ]
  },
  {
   "cell_type": "markdown",
   "metadata": {
    "colab_type": "text",
    "id": "sihIGbRll_jT"
   },
   "source": [
    "## Question 8"
   ]
  },
  {
   "cell_type": "markdown",
   "metadata": {
    "colab_type": "text",
    "id": "54ZZCfNGlu0i"
   },
   "source": [
    "### Summarize the model\n",
    "- Check model layers\n",
    "- Understand number of trainable parameters"
   ]
  },
  {
   "cell_type": "code",
   "execution_count": 34,
   "metadata": {
    "colab": {},
    "colab_type": "code",
    "id": "elER3F_4ln8n",
    "scrolled": true
   },
   "outputs": [
    {
     "name": "stdout",
     "output_type": "stream",
     "text": [
      "Model: \"sequential\"\n",
      "_________________________________________________________________\n",
      "Layer (type)                 Output Shape              Param #   \n",
      "=================================================================\n",
      "dense (Dense)                (None, 16)                80        \n",
      "_________________________________________________________________\n",
      "dense_1 (Dense)              (None, 5)                 85        \n",
      "_________________________________________________________________\n",
      "dense_2 (Dense)              (None, 3)                 18        \n",
      "=================================================================\n",
      "Total params: 183\n",
      "Trainable params: 183\n",
      "Non-trainable params: 0\n",
      "_________________________________________________________________\n"
     ]
    }
   ],
   "source": [
    "model.summary()"
   ]
  },
  {
   "cell_type": "markdown",
   "metadata": {
    "colab_type": "text",
    "id": "2PiP7j3Vmj4p"
   },
   "source": [
    "## Question 9"
   ]
  },
  {
   "cell_type": "markdown",
   "metadata": {
    "colab_type": "text",
    "id": "rWdbfFCXmCHt"
   },
   "source": [
    "### Fit the model\n",
    "- Give train data as training features and labels\n",
    "- Epochs: 100\n",
    "- Give validation data as testing features and labels"
   ]
  },
  {
   "cell_type": "code",
   "execution_count": 38,
   "metadata": {
    "colab": {},
    "colab_type": "code",
    "id": "cO1c-5tjmBVZ",
    "scrolled": false
   },
   "outputs": [
    {
     "name": "stdout",
     "output_type": "stream",
     "text": [
      "Train on 112 samples, validate on 38 samples\n",
      "Epoch 1/100\n",
      "112/112 [==============================] - 16s 143ms/sample - loss: 1.3864 - accuracy: 0.2589 - val_loss: 1.0784 - val_accuracy: 0.2895\n",
      "Epoch 2/100\n",
      "112/112 [==============================] - 0s 2ms/sample - loss: 1.0623 - accuracy: 0.3839 - val_loss: 1.0409 - val_accuracy: 0.4474\n",
      "Epoch 3/100\n",
      "112/112 [==============================] - 0s 607us/sample - loss: 1.0158 - accuracy: 0.5536 - val_loss: 1.0246 - val_accuracy: 0.4474\n",
      "Epoch 4/100\n",
      "112/112 [==============================] - 0s 741us/sample - loss: 0.9944 - accuracy: 0.5179 - val_loss: 0.9974 - val_accuracy: 0.4474\n",
      "Epoch 5/100\n",
      "112/112 [==============================] - 0s 723us/sample - loss: 0.9690 - accuracy: 0.5089 - val_loss: 0.9836 - val_accuracy: 0.4474\n",
      "Epoch 6/100\n",
      "112/112 [==============================] - 0s 732us/sample - loss: 0.9498 - accuracy: 0.5625 - val_loss: 0.9598 - val_accuracy: 0.3947\n",
      "Epoch 7/100\n",
      "112/112 [==============================] - 0s 929us/sample - loss: 0.9368 - accuracy: 0.4554 - val_loss: 0.9518 - val_accuracy: 0.4474\n",
      "Epoch 8/100\n",
      "112/112 [==============================] - 0s 759us/sample - loss: 0.9245 - accuracy: 0.5804 - val_loss: 0.9685 - val_accuracy: 0.3158\n",
      "Epoch 9/100\n",
      "112/112 [==============================] - 0s 1ms/sample - loss: 0.9202 - accuracy: 0.4554 - val_loss: 0.9167 - val_accuracy: 0.4737\n",
      "Epoch 10/100\n",
      "112/112 [==============================] - 0s 1ms/sample - loss: 0.8906 - accuracy: 0.5714 - val_loss: 0.9054 - val_accuracy: 0.3158\n",
      "Epoch 11/100\n",
      "112/112 [==============================] - 0s 839us/sample - loss: 0.8850 - accuracy: 0.4821 - val_loss: 0.8898 - val_accuracy: 0.3158\n",
      "Epoch 12/100\n",
      "112/112 [==============================] - 0s 955us/sample - loss: 0.8700 - accuracy: 0.4821 - val_loss: 0.8744 - val_accuracy: 0.4474\n",
      "Epoch 13/100\n",
      "112/112 [==============================] - 0s 902us/sample - loss: 0.8618 - accuracy: 0.5804 - val_loss: 0.8616 - val_accuracy: 0.5000\n",
      "Epoch 14/100\n",
      "112/112 [==============================] - 0s 920us/sample - loss: 0.8389 - accuracy: 0.5446 - val_loss: 0.8497 - val_accuracy: 0.5000\n",
      "Epoch 15/100\n",
      "112/112 [==============================] - 0s 938us/sample - loss: 0.8245 - accuracy: 0.5536 - val_loss: 0.8191 - val_accuracy: 0.5000\n",
      "Epoch 16/100\n",
      "112/112 [==============================] - 0s 991us/sample - loss: 0.8043 - accuracy: 0.5446 - val_loss: 0.8141 - val_accuracy: 0.5526\n",
      "Epoch 17/100\n",
      "112/112 [==============================] - 0s 964us/sample - loss: 0.7935 - accuracy: 0.5804 - val_loss: 0.8122 - val_accuracy: 0.5000\n",
      "Epoch 18/100\n",
      "112/112 [==============================] - 0s 982us/sample - loss: 0.7837 - accuracy: 0.6071 - val_loss: 0.7846 - val_accuracy: 0.5263\n",
      "Epoch 19/100\n",
      "112/112 [==============================] - 0s 920us/sample - loss: 0.7682 - accuracy: 0.6071 - val_loss: 0.7612 - val_accuracy: 0.5263\n",
      "Epoch 20/100\n",
      "112/112 [==============================] - 0s 866us/sample - loss: 0.7512 - accuracy: 0.6696 - val_loss: 0.7456 - val_accuracy: 0.6579\n",
      "Epoch 21/100\n",
      "112/112 [==============================] - 0s 777us/sample - loss: 0.7334 - accuracy: 0.7946 - val_loss: 0.7344 - val_accuracy: 0.6842\n",
      "Epoch 22/100\n",
      "112/112 [==============================] - 0s 848us/sample - loss: 0.7248 - accuracy: 0.8125 - val_loss: 0.7097 - val_accuracy: 0.8947\n",
      "Epoch 23/100\n",
      "112/112 [==============================] - 0s 911us/sample - loss: 0.7093 - accuracy: 0.8571 - val_loss: 0.7313 - val_accuracy: 0.8684\n",
      "Epoch 24/100\n",
      "112/112 [==============================] - 0s 884us/sample - loss: 0.7036 - accuracy: 0.8393 - val_loss: 0.7182 - val_accuracy: 0.8421\n",
      "Epoch 25/100\n",
      "112/112 [==============================] - 0s 911us/sample - loss: 0.6903 - accuracy: 0.8571 - val_loss: 0.6633 - val_accuracy: 0.8684\n",
      "Epoch 26/100\n",
      "112/112 [==============================] - 0s 848us/sample - loss: 0.6644 - accuracy: 0.8482 - val_loss: 0.6465 - val_accuracy: 0.8684\n",
      "Epoch 27/100\n",
      "112/112 [==============================] - 0s 866us/sample - loss: 0.6643 - accuracy: 0.8661 - val_loss: 0.6306 - val_accuracy: 0.8947\n",
      "Epoch 28/100\n",
      "112/112 [==============================] - 0s 920us/sample - loss: 0.6477 - accuracy: 0.8929 - val_loss: 0.6163 - val_accuracy: 0.8947\n",
      "Epoch 29/100\n",
      "112/112 [==============================] - 0s 830us/sample - loss: 0.6266 - accuracy: 0.8661 - val_loss: 0.6570 - val_accuracy: 0.8421\n",
      "Epoch 30/100\n",
      "112/112 [==============================] - 0s 839us/sample - loss: 0.6263 - accuracy: 0.8929 - val_loss: 0.5922 - val_accuracy: 0.8947\n",
      "Epoch 31/100\n",
      "112/112 [==============================] - 0s 848us/sample - loss: 0.6002 - accuracy: 0.9107 - val_loss: 0.5858 - val_accuracy: 0.9474\n",
      "Epoch 32/100\n",
      "112/112 [==============================] - 0s 893us/sample - loss: 0.5932 - accuracy: 0.9018 - val_loss: 0.5755 - val_accuracy: 0.9474\n",
      "Epoch 33/100\n",
      "112/112 [==============================] - 0s 714us/sample - loss: 0.5808 - accuracy: 0.9375 - val_loss: 0.5722 - val_accuracy: 0.9211\n",
      "Epoch 34/100\n",
      "112/112 [==============================] - 0s 571us/sample - loss: 0.5702 - accuracy: 0.8929 - val_loss: 0.5761 - val_accuracy: 0.8684\n",
      "Epoch 35/100\n",
      "112/112 [==============================] - 0s 696us/sample - loss: 0.5660 - accuracy: 0.9018 - val_loss: 0.5436 - val_accuracy: 0.9474\n",
      "Epoch 36/100\n",
      "112/112 [==============================] - 0s 741us/sample - loss: 0.5710 - accuracy: 0.8304 - val_loss: 0.5944 - val_accuracy: 0.8421\n",
      "Epoch 37/100\n",
      "112/112 [==============================] - 0s 607us/sample - loss: 0.5468 - accuracy: 0.8750 - val_loss: 0.5174 - val_accuracy: 0.9474\n",
      "Epoch 38/100\n",
      "112/112 [==============================] - 0s 554us/sample - loss: 0.5298 - accuracy: 0.9196 - val_loss: 0.4992 - val_accuracy: 0.9474\n",
      "Epoch 39/100\n",
      "112/112 [==============================] - 0s 500us/sample - loss: 0.5159 - accuracy: 0.9107 - val_loss: 0.5017 - val_accuracy: 0.9474\n",
      "Epoch 40/100\n",
      "112/112 [==============================] - 0s 598us/sample - loss: 0.5095 - accuracy: 0.9286 - val_loss: 0.4866 - val_accuracy: 0.9737\n",
      "Epoch 41/100\n",
      "112/112 [==============================] - 0s 741us/sample - loss: 0.4938 - accuracy: 0.9464 - val_loss: 0.4692 - val_accuracy: 0.9474\n",
      "Epoch 42/100\n",
      "112/112 [==============================] - 0s 616us/sample - loss: 0.4816 - accuracy: 0.9375 - val_loss: 0.4588 - val_accuracy: 0.8947\n",
      "Epoch 43/100\n",
      "112/112 [==============================] - 0s 464us/sample - loss: 0.4747 - accuracy: 0.9107 - val_loss: 0.4442 - val_accuracy: 0.9474\n",
      "Epoch 44/100\n",
      "112/112 [==============================] - 0s 437us/sample - loss: 0.4634 - accuracy: 0.9375 - val_loss: 0.4490 - val_accuracy: 0.8684\n",
      "Epoch 45/100\n",
      "112/112 [==============================] - 0s 634us/sample - loss: 0.4729 - accuracy: 0.8839 - val_loss: 0.4763 - val_accuracy: 0.8421\n",
      "Epoch 46/100\n",
      "112/112 [==============================] - 0s 580us/sample - loss: 0.4622 - accuracy: 0.9196 - val_loss: 0.4409 - val_accuracy: 0.8947\n",
      "Epoch 47/100\n",
      "112/112 [==============================] - 0s 598us/sample - loss: 0.4392 - accuracy: 0.9375 - val_loss: 0.4081 - val_accuracy: 0.9474\n",
      "Epoch 48/100\n",
      "112/112 [==============================] - 0s 455us/sample - loss: 0.4364 - accuracy: 0.9286 - val_loss: 0.4325 - val_accuracy: 0.8684\n",
      "Epoch 49/100\n",
      "112/112 [==============================] - 0s 473us/sample - loss: 0.4267 - accuracy: 0.9554 - val_loss: 0.3985 - val_accuracy: 0.8947\n",
      "Epoch 50/100\n",
      "112/112 [==============================] - 0s 554us/sample - loss: 0.4149 - accuracy: 0.9375 - val_loss: 0.3883 - val_accuracy: 0.9737\n",
      "Epoch 51/100\n",
      "112/112 [==============================] - 0s 455us/sample - loss: 0.4116 - accuracy: 0.9375 - val_loss: 0.4044 - val_accuracy: 0.8684\n",
      "Epoch 52/100\n",
      "112/112 [==============================] - 0s 527us/sample - loss: 0.4020 - accuracy: 0.9375 - val_loss: 0.3793 - val_accuracy: 0.8947\n",
      "Epoch 53/100\n",
      "112/112 [==============================] - 0s 446us/sample - loss: 0.4092 - accuracy: 0.9107 - val_loss: 0.3825 - val_accuracy: 0.9211\n",
      "Epoch 54/100\n",
      "112/112 [==============================] - 0s 482us/sample - loss: 0.3892 - accuracy: 0.9643 - val_loss: 0.3581 - val_accuracy: 0.9474\n",
      "Epoch 55/100\n",
      "112/112 [==============================] - 0s 741us/sample - loss: 0.3784 - accuracy: 0.9554 - val_loss: 0.3529 - val_accuracy: 0.9737\n",
      "Epoch 56/100\n",
      "112/112 [==============================] - 0s 920us/sample - loss: 0.3790 - accuracy: 0.9464 - val_loss: 0.3640 - val_accuracy: 0.9211\n",
      "Epoch 57/100\n",
      "112/112 [==============================] - 0s 777us/sample - loss: 0.3770 - accuracy: 0.9375 - val_loss: 0.3379 - val_accuracy: 0.9474\n",
      "Epoch 58/100\n",
      "112/112 [==============================] - 0s 625us/sample - loss: 0.3611 - accuracy: 0.9464 - val_loss: 0.3334 - val_accuracy: 0.9737\n",
      "Epoch 59/100\n",
      "112/112 [==============================] - 0s 652us/sample - loss: 0.3597 - accuracy: 0.9464 - val_loss: 0.3256 - val_accuracy: 0.9737\n",
      "Epoch 60/100\n",
      "112/112 [==============================] - 0s 652us/sample - loss: 0.3685 - accuracy: 0.9107 - val_loss: 0.3309 - val_accuracy: 0.9737\n",
      "Epoch 61/100\n",
      "112/112 [==============================] - 0s 580us/sample - loss: 0.3518 - accuracy: 0.9464 - val_loss: 0.3297 - val_accuracy: 0.9474\n",
      "Epoch 62/100\n",
      "112/112 [==============================] - 0s 607us/sample - loss: 0.3414 - accuracy: 0.9643 - val_loss: 0.3281 - val_accuracy: 0.9211\n",
      "Epoch 63/100\n",
      "112/112 [==============================] - 0s 571us/sample - loss: 0.3341 - accuracy: 0.9554 - val_loss: 0.3053 - val_accuracy: 0.9474\n",
      "Epoch 64/100\n",
      "112/112 [==============================] - 0s 482us/sample - loss: 0.3329 - accuracy: 0.9554 - val_loss: 0.3254 - val_accuracy: 0.8684\n",
      "Epoch 65/100\n",
      "112/112 [==============================] - 0s 625us/sample - loss: 0.3626 - accuracy: 0.9196 - val_loss: 0.3317 - val_accuracy: 0.8421\n",
      "Epoch 66/100\n",
      "112/112 [==============================] - 0s 616us/sample - loss: 0.3241 - accuracy: 0.9643 - val_loss: 0.2900 - val_accuracy: 0.9474\n",
      "Epoch 67/100\n",
      "112/112 [==============================] - 0s 554us/sample - loss: 0.3160 - accuracy: 0.9554 - val_loss: 0.2863 - val_accuracy: 0.9474\n",
      "Epoch 68/100\n",
      "112/112 [==============================] - 0s 482us/sample - loss: 0.3151 - accuracy: 0.9554 - val_loss: 0.2831 - val_accuracy: 0.9474\n",
      "Epoch 69/100\n",
      "112/112 [==============================] - 0s 518us/sample - loss: 0.3122 - accuracy: 0.9286 - val_loss: 0.2973 - val_accuracy: 0.8684\n",
      "Epoch 70/100\n",
      "112/112 [==============================] - 0s 616us/sample - loss: 0.3169 - accuracy: 0.9196 - val_loss: 0.2738 - val_accuracy: 0.9737\n",
      "Epoch 71/100\n",
      "112/112 [==============================] - 0s 625us/sample - loss: 0.3428 - accuracy: 0.9107 - val_loss: 0.2882 - val_accuracy: 0.9474\n",
      "Epoch 72/100\n",
      "112/112 [==============================] - 0s 536us/sample - loss: 0.2944 - accuracy: 0.9554 - val_loss: 0.2665 - val_accuracy: 0.9737\n",
      "Epoch 73/100\n",
      "112/112 [==============================] - 0s 482us/sample - loss: 0.2920 - accuracy: 0.9643 - val_loss: 0.2634 - val_accuracy: 0.9737\n",
      "Epoch 74/100\n",
      "112/112 [==============================] - 0s 545us/sample - loss: 0.2885 - accuracy: 0.9464 - val_loss: 0.2683 - val_accuracy: 0.9737\n",
      "Epoch 75/100\n",
      "112/112 [==============================] - 0s 607us/sample - loss: 0.2943 - accuracy: 0.9464 - val_loss: 0.2691 - val_accuracy: 0.9474\n",
      "Epoch 76/100\n",
      "112/112 [==============================] - 0s 563us/sample - loss: 0.2873 - accuracy: 0.9286 - val_loss: 0.2536 - val_accuracy: 0.9474\n",
      "Epoch 77/100\n",
      "112/112 [==============================] - 0s 473us/sample - loss: 0.2748 - accuracy: 0.9554 - val_loss: 0.2841 - val_accuracy: 0.8421\n",
      "Epoch 78/100\n",
      "112/112 [==============================] - 0s 545us/sample - loss: 0.2846 - accuracy: 0.9375 - val_loss: 0.2484 - val_accuracy: 0.9737\n",
      "Epoch 79/100\n",
      "112/112 [==============================] - 0s 589us/sample - loss: 0.2839 - accuracy: 0.9375 - val_loss: 0.2454 - val_accuracy: 0.9737\n",
      "Epoch 80/100\n",
      "112/112 [==============================] - 0s 589us/sample - loss: 0.2675 - accuracy: 0.9554 - val_loss: 0.2482 - val_accuracy: 0.9474\n",
      "Epoch 81/100\n",
      "112/112 [==============================] - 0s 580us/sample - loss: 0.2695 - accuracy: 0.9464 - val_loss: 0.2418 - val_accuracy: 0.9737\n",
      "Epoch 82/100\n",
      "112/112 [==============================] - 0s 643us/sample - loss: 0.2701 - accuracy: 0.9464 - val_loss: 0.2523 - val_accuracy: 0.9474\n",
      "Epoch 83/100\n",
      "112/112 [==============================] - 0s 509us/sample - loss: 0.2654 - accuracy: 0.9464 - val_loss: 0.2422 - val_accuracy: 0.9737\n",
      "Epoch 84/100\n",
      "112/112 [==============================] - 0s 536us/sample - loss: 0.2580 - accuracy: 0.9464 - val_loss: 0.2431 - val_accuracy: 0.9474\n",
      "Epoch 85/100\n",
      "112/112 [==============================] - 0s 598us/sample - loss: 0.2567 - accuracy: 0.9554 - val_loss: 0.2324 - val_accuracy: 0.9737\n",
      "Epoch 86/100\n",
      "112/112 [==============================] - 0s 536us/sample - loss: 0.2468 - accuracy: 0.9554 - val_loss: 0.2346 - val_accuracy: 0.9474\n",
      "Epoch 87/100\n",
      "112/112 [==============================] - 0s 545us/sample - loss: 0.2723 - accuracy: 0.9107 - val_loss: 0.2223 - val_accuracy: 0.9737\n",
      "Epoch 88/100\n",
      "112/112 [==============================] - 0s 696us/sample - loss: 0.2524 - accuracy: 0.9554 - val_loss: 0.2203 - val_accuracy: 0.9737\n",
      "Epoch 89/100\n",
      "112/112 [==============================] - 0s 554us/sample - loss: 0.2464 - accuracy: 0.9286 - val_loss: 0.2173 - val_accuracy: 0.9474\n",
      "Epoch 90/100\n",
      "112/112 [==============================] - 0s 554us/sample - loss: 0.2430 - accuracy: 0.9643 - val_loss: 0.2246 - val_accuracy: 0.9737\n",
      "Epoch 91/100\n",
      "112/112 [==============================] - 0s 661us/sample - loss: 0.2498 - accuracy: 0.9643 - val_loss: 0.2129 - val_accuracy: 0.9737\n",
      "Epoch 92/100\n",
      "112/112 [==============================] - 0s 795us/sample - loss: 0.2458 - accuracy: 0.9286 - val_loss: 0.2310 - val_accuracy: 0.9474\n",
      "Epoch 93/100\n",
      "112/112 [==============================] - 0s 670us/sample - loss: 0.2334 - accuracy: 0.9464 - val_loss: 0.2091 - val_accuracy: 0.9737\n",
      "Epoch 94/100\n",
      "112/112 [==============================] - 0s 554us/sample - loss: 0.2393 - accuracy: 0.9554 - val_loss: 0.2071 - val_accuracy: 0.9737\n",
      "Epoch 95/100\n",
      "112/112 [==============================] - 0s 491us/sample - loss: 0.2415 - accuracy: 0.9107 - val_loss: 0.2068 - val_accuracy: 0.9737\n",
      "Epoch 96/100\n",
      "112/112 [==============================] - 0s 527us/sample - loss: 0.2351 - accuracy: 0.9464 - val_loss: 0.2020 - val_accuracy: 0.9737\n",
      "Epoch 97/100\n",
      "112/112 [==============================] - 0s 580us/sample - loss: 0.2257 - accuracy: 0.9464 - val_loss: 0.2000 - val_accuracy: 0.9737\n",
      "Epoch 98/100\n",
      "112/112 [==============================] - 0s 625us/sample - loss: 0.2255 - accuracy: 0.9464 - val_loss: 0.2079 - val_accuracy: 0.9737\n",
      "Epoch 99/100\n",
      "112/112 [==============================] - 0s 786us/sample - loss: 0.2186 - accuracy: 0.9643 - val_loss: 0.2066 - val_accuracy: 0.9737\n",
      "Epoch 100/100\n",
      "112/112 [==============================] - 0s 1ms/sample - loss: 0.2220 - accuracy: 0.9375 - val_loss: 0.2149 - val_accuracy: 0.9474\n"
     ]
    },
    {
     "data": {
      "text/plain": [
       "<tensorflow.python.keras.callbacks.History at 0x15b655993c8>"
      ]
     },
     "execution_count": 38,
     "metadata": {},
     "output_type": "execute_result"
    }
   ],
   "source": [
    "model.fit(X_train,y_train_encoded,epochs=100,validation_data=[X_test, y_test_encoded],verbose=1)"
   ]
  },
  {
   "cell_type": "markdown",
   "metadata": {
    "colab_type": "text",
    "id": "re9ItAR3yS3J"
   },
   "source": [
    "## Question 10"
   ]
  },
  {
   "cell_type": "markdown",
   "metadata": {
    "colab_type": "text",
    "id": "liw0IFf9yVqH"
   },
   "source": [
    "### Make predictions\n",
    "- Predict labels on one row"
   ]
  },
  {
   "cell_type": "code",
   "execution_count": 66,
   "metadata": {
    "colab": {},
    "colab_type": "code",
    "id": "H5sBybi6mlLl",
    "scrolled": true
   },
   "outputs": [
    {
     "name": "stdout",
     "output_type": "stream",
     "text": [
      "testing data is : [5.7 3.8 1.7 0.3]\n",
      "prediction probabilities are:  [9.6397239e-01 3.5985045e-02 4.2661290e-05]\n",
      "predicted class is : 0\n"
     ]
    }
   ],
   "source": [
    "import numpy as np\n",
    "print('testing data is :',X_test[1])\n",
    "y_pred=model.predict(np.array(X_test))[1]\n",
    "print('prediction probabilities are: ',y_pred)\n",
    "print('predicted class is :',np.argmax(y_pred))"
   ]
  },
  {
   "cell_type": "markdown",
   "metadata": {
    "colab_type": "text",
    "id": "hSUgMq3m0bG7"
   },
   "source": [
    "### Compare the prediction with actual label\n",
    "- Print the same row as done in the previous step but of actual labels"
   ]
  },
  {
   "cell_type": "code",
   "execution_count": 68,
   "metadata": {
    "colab": {},
    "colab_type": "code",
    "id": "K5WbwVPyz-qQ",
    "scrolled": true
   },
   "outputs": [
    {
     "name": "stdout",
     "output_type": "stream",
     "text": [
      "actual class label is:  0\n"
     ]
    }
   ],
   "source": [
    "print('actual class label is: ',y_train[1])"
   ]
  },
  {
   "cell_type": "code",
   "execution_count": null,
   "metadata": {},
   "outputs": [],
   "source": []
  }
 ],
 "metadata": {
  "kernelspec": {
   "display_name": "Python 3",
   "language": "python",
   "name": "python3"
  },
  "language_info": {
   "codemirror_mode": {
    "name": "ipython",
    "version": 3
   },
   "file_extension": ".py",
   "mimetype": "text/x-python",
   "name": "python",
   "nbconvert_exporter": "python",
   "pygments_lexer": "ipython3",
   "version": "3.7.4"
  }
 },
 "nbformat": 4,
 "nbformat_minor": 2
}
