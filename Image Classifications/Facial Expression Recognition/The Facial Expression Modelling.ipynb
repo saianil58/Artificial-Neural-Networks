{
 "cells": [
  {
   "cell_type": "markdown",
   "metadata": {
    "toc": true
   },
   "source": [
    "<h1>Table of Contents<span class=\"tocSkip\"></span></h1>\n",
    "<div class=\"toc\"><ul class=\"toc-item\"><li><span><a href=\"#Face-Expression-Detection-Model-building\" data-toc-modified-id=\"Face-Expression-Detection-Model-building-1\"><span class=\"toc-item-num\">1&nbsp;&nbsp;</span>Face Expression Detection Model building</a></span></li><li><span><a href=\"#Read-all-Images\" data-toc-modified-id=\"Read-all-Images-2\"><span class=\"toc-item-num\">2&nbsp;&nbsp;</span>Read all Images</a></span></li><li><span><a href=\"#Make-Test-and-Train-split-in-images\" data-toc-modified-id=\"Make-Test-and-Train-split-in-images-3\"><span class=\"toc-item-num\">3&nbsp;&nbsp;</span>Make Test and Train split in images</a></span></li><li><span><a href=\"#Read-Test-and-Train-Images\" data-toc-modified-id=\"Read-Test-and-Train-Images-4\"><span class=\"toc-item-num\">4&nbsp;&nbsp;</span>Read Test and Train Images</a></span></li><li><span><a href=\"#Prepare-X_Test-and-X_Train\" data-toc-modified-id=\"Prepare-X_Test-and-X_Train-5\"><span class=\"toc-item-num\">5&nbsp;&nbsp;</span>Prepare X_Test and X_Train</a></span></li><li><span><a href=\"#Histogram-Transformation\" data-toc-modified-id=\"Histogram-Transformation-6\"><span class=\"toc-item-num\">6&nbsp;&nbsp;</span>Histogram Transformation</a></span></li><li><span><a href=\"#Create-a-function-to-use-hog-transformation-on-all-images\" data-toc-modified-id=\"Create-a-function-to-use-hog-transformation-on-all-images-7\"><span class=\"toc-item-num\">7&nbsp;&nbsp;</span>Create a function to use hog transformation on all images</a></span></li><li><span><a href=\"#Function-to-apply-HOG-and-Scaling\" data-toc-modified-id=\"Function-to-apply-HOG-and-Scaling-8\"><span class=\"toc-item-num\">8&nbsp;&nbsp;</span>Function to apply HOG and Scaling</a></span></li><li><span><a href=\"#Prepare-data\" data-toc-modified-id=\"Prepare-data-9\"><span class=\"toc-item-num\">9&nbsp;&nbsp;</span>Prepare data</a></span></li><li><span><a href=\"#Find-various-options-available\" data-toc-modified-id=\"Find-various-options-available-10\"><span class=\"toc-item-num\">10&nbsp;&nbsp;</span>Find various options available</a></span></li><li><span><a href=\"#Insights:\" data-toc-modified-id=\"Insights:-11\"><span class=\"toc-item-num\">11&nbsp;&nbsp;</span>Insights:</a></span></li><li><span><a href=\"#Create-More-Images-by-Augumentation\" data-toc-modified-id=\"Create-More-Images-by-Augumentation-12\"><span class=\"toc-item-num\">12&nbsp;&nbsp;</span>Create More Images by Augumentation</a></span></li><li><span><a href=\"#Initialising-the-ImageDataGenerator-class.\" data-toc-modified-id=\"Initialising-the-ImageDataGenerator-class.-13\"><span class=\"toc-item-num\">13&nbsp;&nbsp;</span>Initialising the ImageDataGenerator class.</a></span><ul class=\"toc-item\"><li><span><a href=\"#Sample-after-Augumentation\" data-toc-modified-id=\"Sample-after-Augumentation-13.1\"><span class=\"toc-item-num\">13.1&nbsp;&nbsp;</span>Sample after Augumentation</a></span></li></ul></li><li><span><a href=\"#Split-Test-and-Train-on-the-newly-generated-data\" data-toc-modified-id=\"Split-Test-and-Train-on-the-newly-generated-data-14\"><span class=\"toc-item-num\">14&nbsp;&nbsp;</span>Split Test and Train on the newly generated data</a></span></li><li><span><a href=\"#Read-images-and-their-names-into-df\" data-toc-modified-id=\"Read-images-and-their-names-into-df-15\"><span class=\"toc-item-num\">15&nbsp;&nbsp;</span>Read images and their names into df</a></span></li><li><span><a href=\"#Prepare-Data\" data-toc-modified-id=\"Prepare-Data-16\"><span class=\"toc-item-num\">16&nbsp;&nbsp;</span>Prepare Data</a></span></li><li><span><a href=\"#Insights:\" data-toc-modified-id=\"Insights:-17\"><span class=\"toc-item-num\">17&nbsp;&nbsp;</span>Insights:</a></span></li><li><span><a href=\"#CNN-Based-Model\" data-toc-modified-id=\"CNN-Based-Model-18\"><span class=\"toc-item-num\">18&nbsp;&nbsp;</span>CNN Based Model</a></span></li><li><span><a href=\"#Prepare-data-for-CNN\" data-toc-modified-id=\"Prepare-data-for-CNN-19\"><span class=\"toc-item-num\">19&nbsp;&nbsp;</span>Prepare data for CNN</a></span></li><li><span><a href=\"#Check-F1_score\" data-toc-modified-id=\"Check-F1_score-20\"><span class=\"toc-item-num\">20&nbsp;&nbsp;</span>Check F1_score</a></span></li><li><span><a href=\"#Insights:\" data-toc-modified-id=\"Insights:-21\"><span class=\"toc-item-num\">21&nbsp;&nbsp;</span>Insights:</a></span></li><li><span><a href=\"#Final-Model\" data-toc-modified-id=\"Final-Model-22\"><span class=\"toc-item-num\">22&nbsp;&nbsp;</span>Final Model</a></span><ul class=\"toc-item\"><li><span><a href=\"#Data-Loading\" data-toc-modified-id=\"Data-Loading-22.1\"><span class=\"toc-item-num\">22.1&nbsp;&nbsp;</span>Data Loading</a></span></li><li><span><a href=\"#Preprocessing-and-Label-Generation\" data-toc-modified-id=\"Preprocessing-and-Label-Generation-22.2\"><span class=\"toc-item-num\">22.2&nbsp;&nbsp;</span>Preprocessing and Label Generation</a></span></li><li><span><a href=\"#Train/Test-Split\" data-toc-modified-id=\"Train/Test-Split-22.3\"><span class=\"toc-item-num\">22.3&nbsp;&nbsp;</span>Train/Test Split</a></span></li><li><span><a href=\"#Model-Training\" data-toc-modified-id=\"Model-Training-22.4\"><span class=\"toc-item-num\">22.4&nbsp;&nbsp;</span>Model Training</a></span></li><li><span><a href=\"#Model-Evaluation\" data-toc-modified-id=\"Model-Evaluation-22.5\"><span class=\"toc-item-num\">22.5&nbsp;&nbsp;</span>Model Evaluation</a></span></li></ul></li><li><span><a href=\"#Final-Thoughts:\" data-toc-modified-id=\"Final-Thoughts:-23\"><span class=\"toc-item-num\">23&nbsp;&nbsp;</span>Final Thoughts:</a></span></li></ul></div>"
   ]
  },
  {
   "cell_type": "markdown",
   "metadata": {},
   "source": [
    "# Face Expression Detection Model building"
   ]
  },
  {
   "cell_type": "code",
   "execution_count": 61,
   "metadata": {},
   "outputs": [],
   "source": [
    "# Importing necessary libraries\n",
    "import pandas as pd\n",
    "import numpy as np\n",
    "import shutil\n",
    "import skimage\n",
    "\n",
    "from os import listdir\n",
    "from matplotlib import image\n",
    "from sklearn import preprocessing\n",
    "%matplotlib inline\n",
    "import matplotlib.pyplot as plt\n",
    "\n",
    "from sklearn.preprocessing import StandardScaler\n",
    "from sklearn.model_selection import train_test_split\n",
    "\n",
    "from tensorflow.keras.preprocessing.image import ImageDataGenerator, array_to_img, img_to_array, load_img\n"
   ]
  },
  {
   "cell_type": "code",
   "execution_count": 2,
   "metadata": {},
   "outputs": [],
   "source": [
    "def move_images(df, src, dest):\n",
    "    '''\n",
    "    This is to move the images from one folder to other \n",
    "    \n",
    "    Used in context of moving all images to train and test sets\n",
    "    '''\n",
    "    for img in df['name'].values:\n",
    "        shutil.copy(src + '\\\\' + img, dest + '\\\\' + img)\n",
    "\n",
    "\n",
    "def get_expression(val):\n",
    "    '''\n",
    "    This Function is used to get the expression name mentioned in the image name\n",
    "    \n",
    "    Example:\n",
    "        KA.NE1.26.tiff -> ExpressionName: NE\n",
    "    '''\n",
    "    return str(val)[str(val).find('.') + 1:str(val).find('.') + 3]\n",
    "\n",
    "\n",
    "def get_expression_count(val):\n",
    "    '''\n",
    "    This Function is used to get the total number of expression name counts per person mentioned in the image name\n",
    "    \n",
    "    Example:\n",
    "        KA.NE1.26.tiff -> Number of the respective expression: 1\n",
    "    '''\n",
    "    return str(val)[str(val).find('.') + 3:str(val).find('.') + 4]\n",
    "\n",
    "\n",
    "def get_person_name(val):\n",
    "    '''\n",
    "    This Function is used to get the PersonName mentioned in the image name\n",
    "    \n",
    "    Example:\n",
    "        KA.NE1.26.tiff -> PersonName: KA\n",
    "    '''\n",
    "    return str(val)[:str(val).find('.')]\n",
    "\n",
    "\n",
    "def read_images(src_path):\n",
    "    '''\n",
    "    This function is used to read the images in the mentioned directory.\n",
    "    \n",
    "    Returns a list values of numpy arrays of the images and dataframe with image details from the name\n",
    "    '''\n",
    "    # load all images in a directory\n",
    "    loaded_images = list()\n",
    "    y = list()\n",
    "    for filename in listdir(src_path):\n",
    "        # load image\n",
    "        img_data = image.imread(src_path + '\\\\' + filename)\n",
    "        if (len(img_data.shape)) > 2:\n",
    "            img_data = img_data[:, :, 0]\n",
    "        # store loaded image\n",
    "        loaded_images.append(img_data)\n",
    "        y.append(filename)\n",
    "    df = pd.DataFrame(y, columns=['name'])\n",
    "    df['expression'] = df.applymap(lambda x: get_expression(x), )\n",
    "    df['counter'] = df['name'].map(lambda x: get_expression_count(x), )\n",
    "    df['person_name'] = df['name'].map(lambda x: get_person_name(x), )\n",
    "    return loaded_images, df\n",
    "\n",
    "\n",
    "def create_test_train(img_details_df,src_path,Train_path,Test_path,test_size_var):\n",
    "    '''\n",
    "    This function is used to read the images in the mentioned directory.\n",
    "    \n",
    "    Then will create temporary dataframes to group images based on the person\n",
    "    \n",
    "    Later we will use train_test_split from sklearn to shuffle the images\n",
    "    \n",
    "    Test size will be given as input to function as we have less images in source\n",
    "    '''\n",
    "    for person in img_details_df['person_name'].value_counts().keys():\n",
    "        temp_df = img_details_df[img_details_df['person_name'] == person]\n",
    "        X_temp = temp_df['name']\n",
    "        y_temp = temp_df['expression']\n",
    "        X_train, X_test, y_train, y_test = train_test_split(X_temp,\n",
    "                                                            y_temp,\n",
    "                                                            test_size=test_size_var,\n",
    "                                                            stratify=y_temp,\n",
    "                                                            random_state=2020,\n",
    "                                                            shuffle=True)\n",
    "        # Move images to respective folders\n",
    "        for img_name in X_train:\n",
    "            shutil.copy(src_path+ '\\\\' + img_name, Train_path+ '\\\\' + img_name)\n",
    "        for img_name in X_test:\n",
    "            shutil.copy(src_path+ '\\\\' + img_name, Test_path+ '\\\\' + img_name)"
   ]
  },
  {
   "cell_type": "markdown",
   "metadata": {},
   "source": [
    "# Read all Images"
   ]
  },
  {
   "cell_type": "code",
   "execution_count": 3,
   "metadata": {},
   "outputs": [],
   "source": [
    "# Read all the images and the names\n",
    "source_images, img_details_df = read_images(r'C:\\Users\\samu0315\\Downloads\\Expression Data\\Expression Data')"
   ]
  },
  {
   "cell_type": "code",
   "execution_count": 4,
   "metadata": {},
   "outputs": [
    {
     "data": {
      "text/plain": [
       "(256, 256)"
      ]
     },
     "execution_count": 4,
     "metadata": {},
     "output_type": "execute_result"
    }
   ],
   "source": [
    "source_images[1].shape"
   ]
  },
  {
   "cell_type": "code",
   "execution_count": 5,
   "metadata": {},
   "outputs": [],
   "source": [
    "# label encode the target variable i.e., Expression\n",
    "le = preprocessing.LabelEncoder()\n",
    "img_details_df['expression']=le.fit_transform(img_details_df['expression'])"
   ]
  },
  {
   "cell_type": "code",
   "execution_count": 6,
   "metadata": {},
   "outputs": [
    {
     "data": {
      "text/html": [
       "<div>\n",
       "<style scoped>\n",
       "    .dataframe tbody tr th:only-of-type {\n",
       "        vertical-align: middle;\n",
       "    }\n",
       "\n",
       "    .dataframe tbody tr th {\n",
       "        vertical-align: top;\n",
       "    }\n",
       "\n",
       "    .dataframe thead th {\n",
       "        text-align: right;\n",
       "    }\n",
       "</style>\n",
       "<table border=\"1\" class=\"dataframe\">\n",
       "  <thead>\n",
       "    <tr style=\"text-align: right;\">\n",
       "      <th></th>\n",
       "      <th>name</th>\n",
       "      <th>expression</th>\n",
       "      <th>counter</th>\n",
       "      <th>person_name</th>\n",
       "    </tr>\n",
       "  </thead>\n",
       "  <tbody>\n",
       "    <tr>\n",
       "      <td>0</td>\n",
       "      <td>KA.AN1.39.tiff</td>\n",
       "      <td>0</td>\n",
       "      <td>1</td>\n",
       "      <td>KA</td>\n",
       "    </tr>\n",
       "    <tr>\n",
       "      <td>1</td>\n",
       "      <td>KA.AN2.40.tiff</td>\n",
       "      <td>0</td>\n",
       "      <td>2</td>\n",
       "      <td>KA</td>\n",
       "    </tr>\n",
       "    <tr>\n",
       "      <td>2</td>\n",
       "      <td>KA.AN3.41.tiff</td>\n",
       "      <td>0</td>\n",
       "      <td>3</td>\n",
       "      <td>KA</td>\n",
       "    </tr>\n",
       "    <tr>\n",
       "      <td>3</td>\n",
       "      <td>KA.DI1.42.tiff</td>\n",
       "      <td>1</td>\n",
       "      <td>1</td>\n",
       "      <td>KA</td>\n",
       "    </tr>\n",
       "    <tr>\n",
       "      <td>4</td>\n",
       "      <td>KA.DI2.43.tiff</td>\n",
       "      <td>1</td>\n",
       "      <td>2</td>\n",
       "      <td>KA</td>\n",
       "    </tr>\n",
       "    <tr>\n",
       "      <td>...</td>\n",
       "      <td>...</td>\n",
       "      <td>...</td>\n",
       "      <td>...</td>\n",
       "      <td>...</td>\n",
       "    </tr>\n",
       "    <tr>\n",
       "      <td>208</td>\n",
       "      <td>YM.SA2.56.tiff</td>\n",
       "      <td>5</td>\n",
       "      <td>2</td>\n",
       "      <td>YM</td>\n",
       "    </tr>\n",
       "    <tr>\n",
       "      <td>209</td>\n",
       "      <td>YM.SA3.57.tiff</td>\n",
       "      <td>5</td>\n",
       "      <td>3</td>\n",
       "      <td>YM</td>\n",
       "    </tr>\n",
       "    <tr>\n",
       "      <td>210</td>\n",
       "      <td>YM.SU1.58.tiff</td>\n",
       "      <td>6</td>\n",
       "      <td>1</td>\n",
       "      <td>YM</td>\n",
       "    </tr>\n",
       "    <tr>\n",
       "      <td>211</td>\n",
       "      <td>YM.SU2.59.tiff</td>\n",
       "      <td>6</td>\n",
       "      <td>2</td>\n",
       "      <td>YM</td>\n",
       "    </tr>\n",
       "    <tr>\n",
       "      <td>212</td>\n",
       "      <td>YM.SU3.60.tiff</td>\n",
       "      <td>6</td>\n",
       "      <td>3</td>\n",
       "      <td>YM</td>\n",
       "    </tr>\n",
       "  </tbody>\n",
       "</table>\n",
       "<p>213 rows × 4 columns</p>\n",
       "</div>"
      ],
      "text/plain": [
       "               name  expression counter person_name\n",
       "0    KA.AN1.39.tiff           0       1          KA\n",
       "1    KA.AN2.40.tiff           0       2          KA\n",
       "2    KA.AN3.41.tiff           0       3          KA\n",
       "3    KA.DI1.42.tiff           1       1          KA\n",
       "4    KA.DI2.43.tiff           1       2          KA\n",
       "..              ...         ...     ...         ...\n",
       "208  YM.SA2.56.tiff           5       2          YM\n",
       "209  YM.SA3.57.tiff           5       3          YM\n",
       "210  YM.SU1.58.tiff           6       1          YM\n",
       "211  YM.SU2.59.tiff           6       2          YM\n",
       "212  YM.SU3.60.tiff           6       3          YM\n",
       "\n",
       "[213 rows x 4 columns]"
      ]
     },
     "execution_count": 6,
     "metadata": {},
     "output_type": "execute_result"
    }
   ],
   "source": [
    "img_details_df"
   ]
  },
  {
   "cell_type": "markdown",
   "metadata": {},
   "source": [
    "#  Make Test and Train split in images"
   ]
  },
  {
   "cell_type": "code",
   "execution_count": 7,
   "metadata": {
    "scrolled": false
   },
   "outputs": [],
   "source": [
    "src_path = r'C:\\Users\\samu0315\\Downloads\\Expression Data\\Expression Data'\n",
    "Train_path = r'C:\\Users\\samu0315\\Desktop\\Mine\\Personal\\gl_aiml\\interview\\Interview for tuple\\Train_Images'\n",
    "Test_path = r'C:\\Users\\samu0315\\Desktop\\Mine\\Personal\\gl_aiml\\interview\\Interview for tuple\\Test_Images'\n",
    "\n",
    "\n",
    "# Create test and train images from the actual images \n",
    "# and we shall take 7 images per person with each expression in test set to get perfect evaluation\n",
    "create_test_train(img_details_df,src_path,Train_path,Test_path,7)"
   ]
  },
  {
   "cell_type": "markdown",
   "metadata": {},
   "source": [
    "# Read Test and Train Images\n"
   ]
  },
  {
   "cell_type": "code",
   "execution_count": 8,
   "metadata": {},
   "outputs": [],
   "source": [
    "# Read the images from the source dirs for test and train\n",
    "\n",
    "train_images, train_df = read_images(Train_path)\n",
    "train_df['image'] = train_images\n",
    "\n",
    "test_images, test_df = read_images(Test_path)\n",
    "test_df['image'] = test_images"
   ]
  },
  {
   "cell_type": "code",
   "execution_count": 9,
   "metadata": {
    "scrolled": true
   },
   "outputs": [
    {
     "data": {
      "text/html": [
       "<div>\n",
       "<style scoped>\n",
       "    .dataframe tbody tr th:only-of-type {\n",
       "        vertical-align: middle;\n",
       "    }\n",
       "\n",
       "    .dataframe tbody tr th {\n",
       "        vertical-align: top;\n",
       "    }\n",
       "\n",
       "    .dataframe thead th {\n",
       "        text-align: right;\n",
       "    }\n",
       "</style>\n",
       "<table border=\"1\" class=\"dataframe\">\n",
       "  <thead>\n",
       "    <tr style=\"text-align: right;\">\n",
       "      <th></th>\n",
       "      <th>name</th>\n",
       "      <th>expression</th>\n",
       "      <th>counter</th>\n",
       "      <th>person_name</th>\n",
       "      <th>image</th>\n",
       "    </tr>\n",
       "  </thead>\n",
       "  <tbody>\n",
       "    <tr>\n",
       "      <td>0</td>\n",
       "      <td>KA.AN1.39.tiff</td>\n",
       "      <td>AN</td>\n",
       "      <td>1</td>\n",
       "      <td>KA</td>\n",
       "      <td>[[105, 102, 108, 118, 114, 117, 113, 122, 113,...</td>\n",
       "    </tr>\n",
       "    <tr>\n",
       "      <td>1</td>\n",
       "      <td>KA.DI3.44.tiff</td>\n",
       "      <td>DI</td>\n",
       "      <td>3</td>\n",
       "      <td>KA</td>\n",
       "      <td>[[130, 128, 118, 125, 119, 123, 136, 136, 125,...</td>\n",
       "    </tr>\n",
       "    <tr>\n",
       "      <td>2</td>\n",
       "      <td>KA.FE4.48.tiff</td>\n",
       "      <td>FE</td>\n",
       "      <td>4</td>\n",
       "      <td>KA</td>\n",
       "      <td>[[85, 82, 95, 85, 77, 79, 87, 82, 88, 85, 96, ...</td>\n",
       "    </tr>\n",
       "    <tr>\n",
       "      <td>3</td>\n",
       "      <td>KA.HA4.32.tiff</td>\n",
       "      <td>HA</td>\n",
       "      <td>4</td>\n",
       "      <td>KA</td>\n",
       "      <td>[[103, 89, 98, 106, 112, 109, 114, 109, 115, 1...</td>\n",
       "    </tr>\n",
       "    <tr>\n",
       "      <td>4</td>\n",
       "      <td>KA.NE1.26.tiff</td>\n",
       "      <td>NE</td>\n",
       "      <td>1</td>\n",
       "      <td>KA</td>\n",
       "      <td>[[131, 135, 134, 137, 143, 148, 151, 149, 158,...</td>\n",
       "    </tr>\n",
       "    <tr>\n",
       "      <td>...</td>\n",
       "      <td>...</td>\n",
       "      <td>...</td>\n",
       "      <td>...</td>\n",
       "      <td>...</td>\n",
       "      <td>...</td>\n",
       "    </tr>\n",
       "    <tr>\n",
       "      <td>65</td>\n",
       "      <td>YM.FE4.70.tiff</td>\n",
       "      <td>FE</td>\n",
       "      <td>4</td>\n",
       "      <td>YM</td>\n",
       "      <td>[[108, 110, 106, 101, 116, 102, 103, 111, 108,...</td>\n",
       "    </tr>\n",
       "    <tr>\n",
       "      <td>66</td>\n",
       "      <td>YM.HA1.52.tiff</td>\n",
       "      <td>HA</td>\n",
       "      <td>1</td>\n",
       "      <td>YM</td>\n",
       "      <td>[[140, 150, 154, 150, 157, 150, 154, 153, 149,...</td>\n",
       "    </tr>\n",
       "    <tr>\n",
       "      <td>67</td>\n",
       "      <td>YM.NE1.49.tiff</td>\n",
       "      <td>NE</td>\n",
       "      <td>1</td>\n",
       "      <td>YM</td>\n",
       "      <td>[[103, 104, 105, 114, 113, 116, 123, 113, 126,...</td>\n",
       "    </tr>\n",
       "    <tr>\n",
       "      <td>68</td>\n",
       "      <td>YM.SA1.55.tiff</td>\n",
       "      <td>SA</td>\n",
       "      <td>1</td>\n",
       "      <td>YM</td>\n",
       "      <td>[[170, 156, 165, 167, 172, 171, 170, 175, 165,...</td>\n",
       "    </tr>\n",
       "    <tr>\n",
       "      <td>69</td>\n",
       "      <td>YM.SU2.59.tiff</td>\n",
       "      <td>SU</td>\n",
       "      <td>2</td>\n",
       "      <td>YM</td>\n",
       "      <td>[[143, 155, 161, 154, 151, 150, 155, 152, 153,...</td>\n",
       "    </tr>\n",
       "  </tbody>\n",
       "</table>\n",
       "<p>70 rows × 5 columns</p>\n",
       "</div>"
      ],
      "text/plain": [
       "              name expression counter person_name  \\\n",
       "0   KA.AN1.39.tiff         AN       1          KA   \n",
       "1   KA.DI3.44.tiff         DI       3          KA   \n",
       "2   KA.FE4.48.tiff         FE       4          KA   \n",
       "3   KA.HA4.32.tiff         HA       4          KA   \n",
       "4   KA.NE1.26.tiff         NE       1          KA   \n",
       "..             ...        ...     ...         ...   \n",
       "65  YM.FE4.70.tiff         FE       4          YM   \n",
       "66  YM.HA1.52.tiff         HA       1          YM   \n",
       "67  YM.NE1.49.tiff         NE       1          YM   \n",
       "68  YM.SA1.55.tiff         SA       1          YM   \n",
       "69  YM.SU2.59.tiff         SU       2          YM   \n",
       "\n",
       "                                                image  \n",
       "0   [[105, 102, 108, 118, 114, 117, 113, 122, 113,...  \n",
       "1   [[130, 128, 118, 125, 119, 123, 136, 136, 125,...  \n",
       "2   [[85, 82, 95, 85, 77, 79, 87, 82, 88, 85, 96, ...  \n",
       "3   [[103, 89, 98, 106, 112, 109, 114, 109, 115, 1...  \n",
       "4   [[131, 135, 134, 137, 143, 148, 151, 149, 158,...  \n",
       "..                                                ...  \n",
       "65  [[108, 110, 106, 101, 116, 102, 103, 111, 108,...  \n",
       "66  [[140, 150, 154, 150, 157, 150, 154, 153, 149,...  \n",
       "67  [[103, 104, 105, 114, 113, 116, 123, 113, 126,...  \n",
       "68  [[170, 156, 165, 167, 172, 171, 170, 175, 165,...  \n",
       "69  [[143, 155, 161, 154, 151, 150, 155, 152, 153,...  \n",
       "\n",
       "[70 rows x 5 columns]"
      ]
     },
     "execution_count": 9,
     "metadata": {},
     "output_type": "execute_result"
    }
   ],
   "source": [
    "test_df"
   ]
  },
  {
   "cell_type": "markdown",
   "metadata": {},
   "source": [
    "# Prepare X_Test and X_Train"
   ]
  },
  {
   "cell_type": "code",
   "execution_count": 10,
   "metadata": {},
   "outputs": [],
   "source": [
    "X_train=train_df['image']\n",
    "y_train=pd.DataFrame(train_df['expression'])\n",
    "y_train['expression']=le.fit_transform(y_train['expression'])\n",
    "\n",
    "X_test=test_df['image']\n",
    "y_test=pd.DataFrame(test_df['expression'])\n",
    "y_test['expression']=le.fit_transform(y_test['expression'])"
   ]
  },
  {
   "cell_type": "markdown",
   "metadata": {},
   "source": [
    "# Histogram Transformation"
   ]
  },
  {
   "cell_type": "markdown",
   "metadata": {},
   "source": [
    "Histogram of Oriented Gradients\n",
    "The Histogram of Oriented Gradient (HOG) feature descriptor is popular for object detection \n",
    "\n",
    "\n",
    "This is mainly used to reduce the feature space in image\n",
    "\n",
    "More details on it here https://scikit-image.org/docs/stable/auto_examples/features_detection/plot_hog.html"
   ]
  },
  {
   "cell_type": "code",
   "execution_count": 62,
   "metadata": {},
   "outputs": [
    {
     "data": {
      "image/png": "[encoded data removed]",
      "text/plain": [
       "<Figure size 576x432 with 2 Axes>"
      ]
     },
     "metadata": {},
     "output_type": "display_data"
    }
   ],
   "source": [
    "from skimage.feature import hog\n",
    "from skimage.io import imread\n",
    "from skimage.transform import rescale\n",
    "\n",
    "original = imread(\n",
    "    r'C:\\Users\\samu0315\\Downloads\\Expression Data\\Expression Data\\KA.AN2.40.tiff',\n",
    "    as_grey=True)\n",
    "\n",
    "# scale down the image to one third\n",
    "original = rescale(original, 1 / 3, mode='reflect')\n",
    "# calculate the hog and return a visual representation.\n",
    "original_hog, original_hog_img = hog(original,\n",
    "                                     pixels_per_cell=(12, 12),\n",
    "                                     cells_per_block=(2, 2),\n",
    "                                     orientations=8,\n",
    "                                     visualise=True,\n",
    "                                     block_norm='L2-Hys')\n",
    "\n",
    "fig, ax = plt.subplots(1, 2)\n",
    "fig.set_size_inches(8, 6)\n",
    "# remove ticks and their labels\n",
    "[\n",
    "    a.tick_params(bottom=False, left=False, labelbottom=False, labelleft=False)\n",
    "    for a in ax\n",
    "]\n",
    "\n",
    "ax[0].imshow(original, cmap='gray')\n",
    "ax[0].set_title('Original')\n",
    "ax[1].imshow(original_hog_img, cmap='gray')\n",
    "ax[1].set_title('Histogram')\n",
    "plt.show()"
   ]
  },
  {
   "cell_type": "markdown",
   "metadata": {},
   "source": [
    "# Create a function to use hog transformation on all images"
   ]
  },
  {
   "cell_type": "code",
   "execution_count": 12,
   "metadata": {},
   "outputs": [],
   "source": [
    "from sklearn.base import BaseEstimator, TransformerMixin\n",
    " \n",
    "class HogTransformer(BaseEstimator, TransformerMixin):\n",
    "    \"\"\"\n",
    "    Expects an array of 2d arrays (1 channel images)\n",
    "    Calculates hog features for each img\n",
    "    \"\"\"\n",
    " \n",
    "    def __init__(self, y=None, orientations=9,\n",
    "                 pixels_per_cell=(8, 8),\n",
    "                 cells_per_block=(3, 3), block_norm='L2-Hys'):\n",
    "        self.y = y\n",
    "        self.orientations = orientations\n",
    "        self.pixels_per_cell = pixels_per_cell\n",
    "        self.cells_per_block = cells_per_block\n",
    "        self.block_norm = block_norm\n",
    " \n",
    "    def fit(self, X, y=None):\n",
    "        return self\n",
    " \n",
    "    def transform(self, X, y=None):\n",
    " \n",
    "        def local_hog(X):\n",
    "            return hog(X,\n",
    "                       orientations=self.orientations,\n",
    "                       pixels_per_cell=self.pixels_per_cell,\n",
    "                       cells_per_block=self.cells_per_block,\n",
    "                       block_norm=self.block_norm)\n",
    " \n",
    "        try: # parallel\n",
    "            return np.array([local_hog(img) for img in X])\n",
    "        except:\n",
    "            return np.array([local_hog(img) for img in X])"
   ]
  },
  {
   "cell_type": "markdown",
   "metadata": {},
   "source": [
    "# Function to apply HOG and Scaling"
   ]
  },
  {
   "cell_type": "code",
   "execution_count": 13,
   "metadata": {},
   "outputs": [],
   "source": [
    "def normalize_train_data(X):\n",
    "    # create an instance of each transformer\n",
    "    hogify = HogTransformer(\n",
    "        pixels_per_cell=(8, 8),\n",
    "        cells_per_block=(2,2),\n",
    "        orientations=9,\n",
    "        block_norm='L2-Hys'\n",
    "    )\n",
    "    scalify = StandardScaler()\n",
    "\n",
    "    # call fit_transform on each transform converting X_train step by step\n",
    "    X_hog = hogify.fit_transform(X)\n",
    "    X_prepared = scalify.fit_transform(X_hog)\n",
    "    X_prepared = pd.DataFrame(X_prepared)\n",
    "    print(X_prepared.shape)\n",
    "    return X_prepared"
   ]
  },
  {
   "cell_type": "markdown",
   "metadata": {},
   "source": [
    "# Prepare data"
   ]
  },
  {
   "cell_type": "code",
   "execution_count": 14,
   "metadata": {},
   "outputs": [
    {
     "name": "stdout",
     "output_type": "stream",
     "text": [
      "(143, 34596)\n"
     ]
    }
   ],
   "source": [
    "X_train_prepared = normalize_train_data(X_train)"
   ]
  },
  {
   "cell_type": "code",
   "execution_count": 15,
   "metadata": {},
   "outputs": [
    {
     "name": "stdout",
     "output_type": "stream",
     "text": [
      "(70, 34596)\n"
     ]
    }
   ],
   "source": [
    "X_test_prepared = normalize_train_data(X_test)"
   ]
  },
  {
   "cell_type": "markdown",
   "metadata": {},
   "source": [
    "# Find various options available"
   ]
  },
  {
   "cell_type": "code",
   "execution_count": 16,
   "metadata": {},
   "outputs": [
    {
     "name": "stderr",
     "output_type": "stream",
     "text": [
      "C:\\ProgramData\\Anaconda3\\lib\\site-packages\\sklearn\\utils\\deprecation.py:144: FutureWarning: The sklearn.utils.testing module is  deprecated in version 0.22 and will be removed in version 0.24. The corresponding classes / functions should instead be imported from sklearn.utils. Anything that cannot be imported from sklearn.utils is now part of the private API.\n",
      "  warnings.warn(message, FutureWarning)\n",
      "100%|██████████| 30/30 [08:56<00:00, 17.89s/it]\n"
     ]
    },
    {
     "data": {
      "text/html": [
       "<div>\n",
       "<style scoped>\n",
       "    .dataframe tbody tr th:only-of-type {\n",
       "        vertical-align: middle;\n",
       "    }\n",
       "\n",
       "    .dataframe tbody tr th {\n",
       "        vertical-align: top;\n",
       "    }\n",
       "\n",
       "    .dataframe thead th {\n",
       "        text-align: right;\n",
       "    }\n",
       "</style>\n",
       "<table border=\"1\" class=\"dataframe\">\n",
       "  <thead>\n",
       "    <tr style=\"text-align: right;\">\n",
       "      <th></th>\n",
       "      <th>Accuracy</th>\n",
       "      <th>Balanced Accuracy</th>\n",
       "      <th>ROC AUC</th>\n",
       "      <th>F1 Score</th>\n",
       "      <th>Time Taken</th>\n",
       "    </tr>\n",
       "    <tr>\n",
       "      <th>Model</th>\n",
       "      <th></th>\n",
       "      <th></th>\n",
       "      <th></th>\n",
       "      <th></th>\n",
       "      <th></th>\n",
       "    </tr>\n",
       "  </thead>\n",
       "  <tbody>\n",
       "    <tr>\n",
       "      <td>LogisticRegression</td>\n",
       "      <td>0.94</td>\n",
       "      <td>0.94</td>\n",
       "      <td>None</td>\n",
       "      <td>0.94</td>\n",
       "      <td>4.76</td>\n",
       "    </tr>\n",
       "    <tr>\n",
       "      <td>RidgeClassifierCV</td>\n",
       "      <td>0.94</td>\n",
       "      <td>0.94</td>\n",
       "      <td>None</td>\n",
       "      <td>0.94</td>\n",
       "      <td>0.66</td>\n",
       "    </tr>\n",
       "    <tr>\n",
       "      <td>RidgeClassifier</td>\n",
       "      <td>0.94</td>\n",
       "      <td>0.94</td>\n",
       "      <td>None</td>\n",
       "      <td>0.94</td>\n",
       "      <td>0.64</td>\n",
       "    </tr>\n",
       "    <tr>\n",
       "      <td>PassiveAggressiveClassifier</td>\n",
       "      <td>0.91</td>\n",
       "      <td>0.91</td>\n",
       "      <td>None</td>\n",
       "      <td>0.91</td>\n",
       "      <td>3.90</td>\n",
       "    </tr>\n",
       "    <tr>\n",
       "      <td>Perceptron</td>\n",
       "      <td>0.90</td>\n",
       "      <td>0.90</td>\n",
       "      <td>None</td>\n",
       "      <td>0.90</td>\n",
       "      <td>1.49</td>\n",
       "    </tr>\n",
       "    <tr>\n",
       "      <td>LinearSVC</td>\n",
       "      <td>0.89</td>\n",
       "      <td>0.89</td>\n",
       "      <td>None</td>\n",
       "      <td>0.88</td>\n",
       "      <td>5.09</td>\n",
       "    </tr>\n",
       "    <tr>\n",
       "      <td>SGDClassifier</td>\n",
       "      <td>0.89</td>\n",
       "      <td>0.89</td>\n",
       "      <td>None</td>\n",
       "      <td>0.88</td>\n",
       "      <td>1.36</td>\n",
       "    </tr>\n",
       "    <tr>\n",
       "      <td>NuSVC</td>\n",
       "      <td>0.89</td>\n",
       "      <td>0.89</td>\n",
       "      <td>None</td>\n",
       "      <td>0.89</td>\n",
       "      <td>2.39</td>\n",
       "    </tr>\n",
       "    <tr>\n",
       "      <td>ExtraTreesClassifier</td>\n",
       "      <td>0.81</td>\n",
       "      <td>0.81</td>\n",
       "      <td>None</td>\n",
       "      <td>0.81</td>\n",
       "      <td>1.21</td>\n",
       "    </tr>\n",
       "    <tr>\n",
       "      <td>GaussianNB</td>\n",
       "      <td>0.76</td>\n",
       "      <td>0.76</td>\n",
       "      <td>None</td>\n",
       "      <td>0.76</td>\n",
       "      <td>0.96</td>\n",
       "    </tr>\n",
       "    <tr>\n",
       "      <td>RandomForestClassifier</td>\n",
       "      <td>0.76</td>\n",
       "      <td>0.76</td>\n",
       "      <td>None</td>\n",
       "      <td>0.75</td>\n",
       "      <td>1.67</td>\n",
       "    </tr>\n",
       "    <tr>\n",
       "      <td>SVC</td>\n",
       "      <td>0.69</td>\n",
       "      <td>0.69</td>\n",
       "      <td>None</td>\n",
       "      <td>0.71</td>\n",
       "      <td>2.38</td>\n",
       "    </tr>\n",
       "    <tr>\n",
       "      <td>BernoulliNB</td>\n",
       "      <td>0.69</td>\n",
       "      <td>0.69</td>\n",
       "      <td>None</td>\n",
       "      <td>0.69</td>\n",
       "      <td>0.79</td>\n",
       "    </tr>\n",
       "    <tr>\n",
       "      <td>NearestCentroid</td>\n",
       "      <td>0.69</td>\n",
       "      <td>0.69</td>\n",
       "      <td>None</td>\n",
       "      <td>0.69</td>\n",
       "      <td>0.64</td>\n",
       "    </tr>\n",
       "    <tr>\n",
       "      <td>XGBClassifier</td>\n",
       "      <td>0.67</td>\n",
       "      <td>0.67</td>\n",
       "      <td>None</td>\n",
       "      <td>0.66</td>\n",
       "      <td>263.52</td>\n",
       "    </tr>\n",
       "    <tr>\n",
       "      <td>LGBMClassifier</td>\n",
       "      <td>0.66</td>\n",
       "      <td>0.66</td>\n",
       "      <td>None</td>\n",
       "      <td>0.65</td>\n",
       "      <td>180.58</td>\n",
       "    </tr>\n",
       "    <tr>\n",
       "      <td>KNeighborsClassifier</td>\n",
       "      <td>0.63</td>\n",
       "      <td>0.63</td>\n",
       "      <td>None</td>\n",
       "      <td>0.63</td>\n",
       "      <td>1.59</td>\n",
       "    </tr>\n",
       "    <tr>\n",
       "      <td>BaggingClassifier</td>\n",
       "      <td>0.57</td>\n",
       "      <td>0.57</td>\n",
       "      <td>None</td>\n",
       "      <td>0.57</td>\n",
       "      <td>15.12</td>\n",
       "    </tr>\n",
       "    <tr>\n",
       "      <td>LinearDiscriminantAnalysis</td>\n",
       "      <td>0.54</td>\n",
       "      <td>0.54</td>\n",
       "      <td>None</td>\n",
       "      <td>0.55</td>\n",
       "      <td>3.04</td>\n",
       "    </tr>\n",
       "    <tr>\n",
       "      <td>ExtraTreeClassifier</td>\n",
       "      <td>0.36</td>\n",
       "      <td>0.36</td>\n",
       "      <td>None</td>\n",
       "      <td>0.34</td>\n",
       "      <td>0.50</td>\n",
       "    </tr>\n",
       "    <tr>\n",
       "      <td>DecisionTreeClassifier</td>\n",
       "      <td>0.36</td>\n",
       "      <td>0.36</td>\n",
       "      <td>None</td>\n",
       "      <td>0.35</td>\n",
       "      <td>3.04</td>\n",
       "    </tr>\n",
       "    <tr>\n",
       "      <td>AdaBoostClassifier</td>\n",
       "      <td>0.24</td>\n",
       "      <td>0.24</td>\n",
       "      <td>None</td>\n",
       "      <td>0.17</td>\n",
       "      <td>29.29</td>\n",
       "    </tr>\n",
       "    <tr>\n",
       "      <td>DummyClassifier</td>\n",
       "      <td>0.20</td>\n",
       "      <td>0.20</td>\n",
       "      <td>None</td>\n",
       "      <td>0.20</td>\n",
       "      <td>0.47</td>\n",
       "    </tr>\n",
       "    <tr>\n",
       "      <td>LabelSpreading</td>\n",
       "      <td>0.14</td>\n",
       "      <td>0.14</td>\n",
       "      <td>None</td>\n",
       "      <td>0.04</td>\n",
       "      <td>0.60</td>\n",
       "    </tr>\n",
       "    <tr>\n",
       "      <td>LabelPropagation</td>\n",
       "      <td>0.14</td>\n",
       "      <td>0.14</td>\n",
       "      <td>None</td>\n",
       "      <td>0.04</td>\n",
       "      <td>0.59</td>\n",
       "    </tr>\n",
       "    <tr>\n",
       "      <td>CheckingClassifier</td>\n",
       "      <td>0.14</td>\n",
       "      <td>0.14</td>\n",
       "      <td>None</td>\n",
       "      <td>0.04</td>\n",
       "      <td>0.48</td>\n",
       "    </tr>\n",
       "    <tr>\n",
       "      <td>CalibratedClassifierCV</td>\n",
       "      <td>0.14</td>\n",
       "      <td>0.14</td>\n",
       "      <td>None</td>\n",
       "      <td>0.04</td>\n",
       "      <td>8.08</td>\n",
       "    </tr>\n",
       "    <tr>\n",
       "      <td>QuadraticDiscriminantAnalysis</td>\n",
       "      <td>0.13</td>\n",
       "      <td>0.13</td>\n",
       "      <td>None</td>\n",
       "      <td>0.11</td>\n",
       "      <td>1.48</td>\n",
       "    </tr>\n",
       "  </tbody>\n",
       "</table>\n",
       "</div>"
      ],
      "text/plain": [
       "                               Accuracy  Balanced Accuracy ROC AUC  F1 Score  \\\n",
       "Model                                                                          \n",
       "LogisticRegression                 0.94               0.94    None      0.94   \n",
       "RidgeClassifierCV                  0.94               0.94    None      0.94   \n",
       "RidgeClassifier                    0.94               0.94    None      0.94   \n",
       "PassiveAggressiveClassifier        0.91               0.91    None      0.91   \n",
       "Perceptron                         0.90               0.90    None      0.90   \n",
       "LinearSVC                          0.89               0.89    None      0.88   \n",
       "SGDClassifier                      0.89               0.89    None      0.88   \n",
       "NuSVC                              0.89               0.89    None      0.89   \n",
       "ExtraTreesClassifier               0.81               0.81    None      0.81   \n",
       "GaussianNB                         0.76               0.76    None      0.76   \n",
       "RandomForestClassifier             0.76               0.76    None      0.75   \n",
       "SVC                                0.69               0.69    None      0.71   \n",
       "BernoulliNB                        0.69               0.69    None      0.69   \n",
       "NearestCentroid                    0.69               0.69    None      0.69   \n",
       "XGBClassifier                      0.67               0.67    None      0.66   \n",
       "LGBMClassifier                     0.66               0.66    None      0.65   \n",
       "KNeighborsClassifier               0.63               0.63    None      0.63   \n",
       "BaggingClassifier                  0.57               0.57    None      0.57   \n",
       "LinearDiscriminantAnalysis         0.54               0.54    None      0.55   \n",
       "ExtraTreeClassifier                0.36               0.36    None      0.34   \n",
       "DecisionTreeClassifier             0.36               0.36    None      0.35   \n",
       "AdaBoostClassifier                 0.24               0.24    None      0.17   \n",
       "DummyClassifier                    0.20               0.20    None      0.20   \n",
       "LabelSpreading                     0.14               0.14    None      0.04   \n",
       "LabelPropagation                   0.14               0.14    None      0.04   \n",
       "CheckingClassifier                 0.14               0.14    None      0.04   \n",
       "CalibratedClassifierCV             0.14               0.14    None      0.04   \n",
       "QuadraticDiscriminantAnalysis      0.13               0.13    None      0.11   \n",
       "\n",
       "                               Time Taken  \n",
       "Model                                      \n",
       "LogisticRegression                   4.76  \n",
       "RidgeClassifierCV                    0.66  \n",
       "RidgeClassifier                      0.64  \n",
       "PassiveAggressiveClassifier          3.90  \n",
       "Perceptron                           1.49  \n",
       "LinearSVC                            5.09  \n",
       "SGDClassifier                        1.36  \n",
       "NuSVC                                2.39  \n",
       "ExtraTreesClassifier                 1.21  \n",
       "GaussianNB                           0.96  \n",
       "RandomForestClassifier               1.67  \n",
       "SVC                                  2.38  \n",
       "BernoulliNB                          0.79  \n",
       "NearestCentroid                      0.64  \n",
       "XGBClassifier                      263.52  \n",
       "LGBMClassifier                     180.58  \n",
       "KNeighborsClassifier                 1.59  \n",
       "BaggingClassifier                   15.12  \n",
       "LinearDiscriminantAnalysis           3.04  \n",
       "ExtraTreeClassifier                  0.50  \n",
       "DecisionTreeClassifier               3.04  \n",
       "AdaBoostClassifier                  29.29  \n",
       "DummyClassifier                      0.47  \n",
       "LabelSpreading                       0.60  \n",
       "LabelPropagation                     0.59  \n",
       "CheckingClassifier                   0.48  \n",
       "CalibratedClassifierCV               8.08  \n",
       "QuadraticDiscriminantAnalysis        1.48  "
      ]
     },
     "execution_count": 16,
     "metadata": {},
     "output_type": "execute_result"
    }
   ],
   "source": [
    "from lazypredict.Supervised import LazyClassifier\n",
    "\n",
    "clf = LazyClassifier(verbose=0,ignore_warnings=True, custom_metric=None)\n",
    "models,predictions = clf.fit(X_train_prepared, X_test_prepared, y_train, y_test)\n",
    "models"
   ]
  },
  {
   "cell_type": "markdown",
   "metadata": {},
   "source": [
    "# Insights:\n"
   ]
  },
  {
   "cell_type": "markdown",
   "metadata": {},
   "source": [
    "The results are promising, however these images are very good portraits, and in real world when we try to predict the expression, these kind of images are rare, The most common ones are from video streams and they will be distorted, rotated, zoomed in / zoomed out etc etc....\n",
    "\n",
    "\n",
    "So lets create our own images from these and make them as inputs, to models and check the performance. \n",
    "\n",
    "\n",
    "Keras has inbuilt libraries which will perfrom this task and its called ImageDataGenerator\n",
    "\n",
    "We will make 11 copies from one image and then divide them into test and train images"
   ]
  },
  {
   "cell_type": "markdown",
   "metadata": {},
   "source": [
    "# Create More Images by Augumentation"
   ]
  },
  {
   "cell_type": "code",
   "execution_count": 31,
   "metadata": {},
   "outputs": [],
   "source": [
    "original_data_path = r'C:\\Users\\samu0315\\Downloads\\Expression Data\\Expression Data'\n",
    "aug_data_path = r'C:\\Users\\samu0315\\Desktop\\Mine\\Personal\\gl_aiml\\interview\\Interview for tuple\\New_trian_data'"
   ]
  },
  {
   "cell_type": "markdown",
   "metadata": {},
   "source": [
    "# Initialising the ImageDataGenerator class."
   ]
  },
  {
   "cell_type": "code",
   "execution_count": 32,
   "metadata": {},
   "outputs": [],
   "source": [
    "# We will pass in the augmentation parameters in the constructor.\n",
    "datagen = ImageDataGenerator(rotation_range=40,\n",
    "                             shear_range=0.2,\n",
    "                             zoom_range=0.2,\n",
    "                             horizontal_flip=True,\n",
    "                             brightness_range=(0.5, 1.5))\n",
    "\n",
    "for filename in listdir(original_data_path):\n",
    "    shutil.copy(original_data_path+ '\\\\' + filename, aug_data_path+ '\\\\' + filename)\n",
    "    img = load_img(original_data_path + '\\\\' + filename)\n",
    "    # Converting the input sample image to an array\n",
    "    x = img_to_array(img)\n",
    "    # Reshaping the input image\n",
    "    x = x.reshape((1, ) + x.shape)\n",
    "    # Generating and saving 11 augmented samples\n",
    "    # using the above defined parameters.\n",
    "    i = 0\n",
    "    for batch in datagen.flow(\n",
    "            x,\n",
    "            batch_size=1,\n",
    "            save_to_dir=aug_data_path,\n",
    "            save_prefix=filename,\n",
    "            save_format='tiff'):\n",
    "        i += 1\n",
    "        if i > 10:\n",
    "            break"
   ]
  },
  {
   "cell_type": "markdown",
   "metadata": {},
   "source": [
    "## Sample after Augumentation"
   ]
  },
  {
   "attachments": {
    "Capture.JPG": {
     "image/jpeg": "[encoded data removed]"
    }
   },
   "cell_type": "markdown",
   "metadata": {},
   "source": [
    "![Capture.JPG](attachment:Capture.JPG)"
   ]
  },
  {
   "cell_type": "markdown",
   "metadata": {},
   "source": [
    "# Split Test and Train on the newly generated data"
   ]
  },
  {
   "cell_type": "code",
   "execution_count": 33,
   "metadata": {},
   "outputs": [],
   "source": [
    "src_path = r'C:\\Users\\samu0315\\Desktop\\Mine\\Personal\\gl_aiml\\interview\\Interview for tuple\\New_trian_data'\n",
    "Train_path = r'C:\\Users\\samu0315\\Desktop\\Mine\\Personal\\gl_aiml\\interview\\Interview for tuple\\Train_Images'\n",
    "Test_path = r'C:\\Users\\samu0315\\Desktop\\Mine\\Personal\\gl_aiml\\interview\\Interview for tuple\\Test_Images'\n",
    "\n",
    "source_images, img_details_df = read_images(src_path)\n",
    "create_test_train(img_details_df,src_path,Train_path,Test_path,.2)"
   ]
  },
  {
   "cell_type": "markdown",
   "metadata": {},
   "source": [
    "# Read images and their names into df"
   ]
  },
  {
   "cell_type": "code",
   "execution_count": 34,
   "metadata": {},
   "outputs": [],
   "source": [
    "train_images, train_df = read_images(Train_path)\n",
    "train_df['image'] = train_images\n",
    "\n",
    "test_images, test_df = read_images(Test_path)\n",
    "test_df['image'] = test_images"
   ]
  },
  {
   "cell_type": "markdown",
   "metadata": {},
   "source": [
    "# Prepare Data"
   ]
  },
  {
   "cell_type": "code",
   "execution_count": 35,
   "metadata": {},
   "outputs": [
    {
     "name": "stdout",
     "output_type": "stream",
     "text": [
      "(2041, 34596)\n",
      "(515, 34596)\n"
     ]
    }
   ],
   "source": [
    "X_train=train_df['image']\n",
    "X_train_prepared = normalize_train_data(X_train)\n",
    "\n",
    "y_train=pd.DataFrame(train_df['expression'])\n",
    "y_train['expression']=le.fit_transform(y_train['expression'])\n",
    "\n",
    "X_test=test_df['image']\n",
    "X_test_prepared = normalize_train_data(X_test)\n",
    "\n",
    "y_test=pd.DataFrame(test_df['expression'])\n",
    "y_test['expression']=le.fit_transform(y_test['expression'])"
   ]
  },
  {
   "cell_type": "markdown",
   "metadata": {},
   "source": [
    "for intrest of time lets just check the top 3 performers in our previous test\n",
    "\n",
    "If we use lazy classfier it takes 6+ hours to train and i did a restart with clear output :) :) \n",
    "\n",
    "So, lets just evaluate top 3 performers\n"
   ]
  },
  {
   "cell_type": "code",
   "execution_count": 37,
   "metadata": {},
   "outputs": [
    {
     "name": "stdout",
     "output_type": "stream",
     "text": [
      "LogisticRegression: 0.5782575950455948\n"
     ]
    }
   ],
   "source": [
    "from sklearn.linear_model import LogisticRegression\n",
    "from sklearn.metrics import f1_score\n",
    "\n",
    "clf = LogisticRegression(random_state=0).fit(X_train_prepared, y_train)\n",
    "\n",
    "y_pred = clf.predict(X_test_prepared)\n",
    "\n",
    "print('LogisticRegression: '+str(f1_score(y_test, y_pred, average='macro')))"
   ]
  },
  {
   "cell_type": "code",
   "execution_count": 38,
   "metadata": {},
   "outputs": [
    {
     "name": "stdout",
     "output_type": "stream",
     "text": [
      "RidgeClassifierCV: \n",
      "0.5592016336950068\n"
     ]
    }
   ],
   "source": [
    "from sklearn.linear_model import RidgeClassifierCV\n",
    "from sklearn.metrics import f1_score\n",
    "\n",
    "clf = RidgeClassifierCV().fit(X_train_prepared, y_train)\n",
    "\n",
    "y_pred = clf.predict(X_test_prepared)\n",
    "\n",
    "print('RidgeClassifierCV: ')\n",
    "print(f1_score(y_test, y_pred, average='macro'))"
   ]
  },
  {
   "cell_type": "code",
   "execution_count": 39,
   "metadata": {},
   "outputs": [
    {
     "name": "stdout",
     "output_type": "stream",
     "text": [
      "RidgeClassifier: \n",
      "0.5592016336950068\n"
     ]
    }
   ],
   "source": [
    "from sklearn.linear_model import RidgeClassifier\n",
    "from sklearn.metrics import f1_score\n",
    "\n",
    "clf = RidgeClassifier().fit(X_train_prepared, y_train)\n",
    "\n",
    "y_pred = clf.predict(X_test_prepared)\n",
    "\n",
    "print('RidgeClassifier: ')\n",
    "print(f1_score(y_test, y_pred, average='macro'))"
   ]
  },
  {
   "cell_type": "markdown",
   "metadata": {},
   "source": [
    "# Insights:\n",
    "\n",
    "Well as expected, with change in training data from portraits to distorted images, the scores fell from 94% to 57% \n",
    "\n",
    "These are vanila variants of the models, we can try to improve the scores by tuning \n",
    "\n",
    "We can use `GridSearchCV`, `RandomSearchCV` or even `Hyperopt`.\n",
    "\n",
    "Lets also try at on `CNN Model` and check if it looks promising"
   ]
  },
  {
   "cell_type": "markdown",
   "metadata": {},
   "source": [
    "# CNN Based Model"
   ]
  },
  {
   "cell_type": "code",
   "execution_count": 40,
   "metadata": {},
   "outputs": [],
   "source": [
    "import numpy as np\n",
    "from matplotlib import pyplot as plt\n",
    "from tensorflow.keras.models import Sequential\n",
    "from tensorflow.keras.layers import Dense, MaxPooling2D, Conv2D, Flatten, Dropout\n",
    "from tensorflow.keras.utils import to_categorical\n",
    "\n",
    "# For examining results\n",
    "from sklearn.metrics import confusion_matrix\n",
    "import seaborn as sn"
   ]
  },
  {
   "cell_type": "code",
   "execution_count": 41,
   "metadata": {},
   "outputs": [],
   "source": [
    "def plot_training_history(history, model, eval_images=False):\n",
    "    '''\n",
    "    Function to plot the train vs test of loss and acc\n",
    "    '''\n",
    "    figure = plt.figure()\n",
    "\n",
    "    plt.subplot(1, 2, 1)\n",
    "    plt.plot(history.history['accuracy'])\n",
    "    plt.plot(history.history['val_accuracy'])\n",
    "    plt.title('model accuracy')\n",
    "    plt.ylabel('accuracy')\n",
    "    plt.xlabel('epoch')\n",
    "    plt.legend(['training', 'validation'], loc='best')\n",
    "    plt.tight_layout()\n",
    "\n",
    "    plt.subplot(1, 2, 2)\n",
    "    plt.plot(history.history['loss'])\n",
    "    plt.plot(history.history['val_loss'])\n",
    "    plt.title('model loss')\n",
    "    plt.ylabel('loss')\n",
    "    plt.xlabel('epoch')\n",
    "    plt.legend(['training', 'validation'], loc='best')\n",
    "    plt.tight_layout()\n",
    "\n",
    "    figure.tight_layout()\n",
    "    plt.show()\n",
    "    \n",
    "    if eval_images:\n",
    "        loss, accuracy  = model.evaluate(conv_test_data, test_labels, verbose=False)\n",
    "    else:\n",
    "        loss, accuracy  = model.evaluate(test_data, test_labels, verbose=False)\n",
    "        \n",
    "    print(f'Test loss: {loss:.3}')\n",
    "    print(f'Test accuracy: {accuracy:.3}')"
   ]
  },
  {
   "cell_type": "code",
   "execution_count": 42,
   "metadata": {},
   "outputs": [],
   "source": [
    "# Sequential model from keras\n",
    "model = Sequential()\n",
    "\n",
    "# add model layers. The first parameter is the number of filters to make at each layer.\n",
    "# Meaning here the result of the first layer is 64 different \"feature maps\" or \"activation maps\"\n",
    "model.add(Conv2D(64, kernel_size=(3, 3), activation='relu', padding='same', input_shape=(256, 256,1)))\n",
    "model.add(Conv2D(32, kernel_size=(3, 3), activation='relu', padding='same',))\n",
    "model.add(Flatten())\n",
    "model.add(Dense(7, activation='softmax'))\n",
    "\n",
    "# Lets use adam optimiser and categorical loss as we have multi label\n",
    "model.compile(optimizer='adam', loss='categorical_crossentropy', metrics=['accuracy'])"
   ]
  },
  {
   "cell_type": "markdown",
   "metadata": {},
   "source": [
    "# Prepare data for CNN "
   ]
  },
  {
   "cell_type": "code",
   "execution_count": 43,
   "metadata": {},
   "outputs": [
    {
     "data": {
      "text/plain": [
       "(2041, 256, 256)"
      ]
     },
     "execution_count": 43,
     "metadata": {},
     "output_type": "execute_result"
    }
   ],
   "source": [
    "train_images_np = np.asarray(train_images)\n",
    "train_images_np.shape"
   ]
  },
  {
   "cell_type": "code",
   "execution_count": 44,
   "metadata": {},
   "outputs": [],
   "source": [
    "train_images_np=train_images_np.reshape(2041, 256, 256,1)"
   ]
  },
  {
   "cell_type": "code",
   "execution_count": 45,
   "metadata": {},
   "outputs": [
    {
     "data": {
      "text/plain": [
       "(515, 256, 256)"
      ]
     },
     "execution_count": 45,
     "metadata": {},
     "output_type": "execute_result"
    }
   ],
   "source": [
    "test_images_np = np.asarray(test_images)\n",
    "test_images_np.shape"
   ]
  },
  {
   "cell_type": "code",
   "execution_count": 46,
   "metadata": {},
   "outputs": [],
   "source": [
    "test_images_np=test_images_np.reshape(515, 256, 256,1)"
   ]
  },
  {
   "cell_type": "code",
   "execution_count": 47,
   "metadata": {},
   "outputs": [
    {
     "data": {
      "text/plain": [
       "(2041,)"
      ]
     },
     "execution_count": 47,
     "metadata": {},
     "output_type": "execute_result"
    }
   ],
   "source": [
    "y_train = y_train['expression']\n",
    "y_train.shape"
   ]
  },
  {
   "cell_type": "code",
   "execution_count": 48,
   "metadata": {},
   "outputs": [
    {
     "data": {
      "text/plain": [
       "(515,)"
      ]
     },
     "execution_count": 48,
     "metadata": {},
     "output_type": "execute_result"
    }
   ],
   "source": [
    "y_test = y_test['expression']\n",
    "y_test.shape"
   ]
  },
  {
   "cell_type": "code",
   "execution_count": 49,
   "metadata": {},
   "outputs": [
    {
     "name": "stderr",
     "output_type": "stream",
     "text": [
      "Using TensorFlow backend.\n"
     ]
    }
   ],
   "source": [
    "from keras.utils import to_categorical\n",
    "y_train = to_categorical(y_train)\n",
    "y_test = to_categorical(y_test)"
   ]
  },
  {
   "cell_type": "code",
   "execution_count": 51,
   "metadata": {},
   "outputs": [
    {
     "name": "stdout",
     "output_type": "stream",
     "text": [
      "Train on 2041 samples, validate on 515 samples\n",
      "Epoch 1/2\n",
      "2041/2041 [==============================] - 541s 265ms/sample - loss: 1.9447 - accuracy: 0.1720 - val_loss: 1.9460 - val_accuracy: 0.1417\n",
      "Epoch 2/2\n",
      "2041/2041 [==============================] - 499s 245ms/sample - loss: 1.9395 - accuracy: 0.2244 - val_loss: 1.9456 - val_accuracy: 0.1262\n"
     ]
    },
    {
     "data": {
      "image/png": "[encoded data removed]",
      "text/plain": [
       "<Figure size 432x288 with 2 Axes>"
      ]
     },
     "metadata": {
      "needs_background": "light"
     },
     "output_type": "display_data"
    },
    {
     "ename": "NameError",
     "evalue": "name 'test_data' is not defined",
     "output_type": "error",
     "traceback": [
      "\u001b[1;31m---------------------------------------------------------------------------\u001b[0m",
      "\u001b[1;31mNameError\u001b[0m                                 Traceback (most recent call last)",
      "\u001b[1;32m<ipython-input-51-b7036afe2f7d>\u001b[0m in \u001b[0;36m<module>\u001b[1;34m\u001b[0m\n\u001b[0;32m     11\u001b[0m     \u001b[0mverbose\u001b[0m\u001b[1;33m=\u001b[0m\u001b[1;32mTrue\u001b[0m\u001b[1;33m,\u001b[0m\u001b[1;33m\u001b[0m\u001b[1;33m\u001b[0m\u001b[0m\n\u001b[0;32m     12\u001b[0m )\n\u001b[1;32m---> 13\u001b[1;33m \u001b[0mplot_training_history\u001b[0m\u001b[1;33m(\u001b[0m\u001b[0mhistory\u001b[0m\u001b[1;33m,\u001b[0m \u001b[0mmodel\u001b[0m\u001b[1;33m,\u001b[0m \u001b[0meval_images\u001b[0m\u001b[1;33m=\u001b[0m\u001b[1;32mFalse\u001b[0m\u001b[1;33m)\u001b[0m\u001b[1;33m\u001b[0m\u001b[1;33m\u001b[0m\u001b[0m\n\u001b[0m",
      "\u001b[1;32m<ipython-input-41-0522d6054166>\u001b[0m in \u001b[0;36mplot_training_history\u001b[1;34m(history, model, eval_images)\u001b[0m\n\u001b[0;32m     26\u001b[0m         \u001b[0mloss\u001b[0m\u001b[1;33m,\u001b[0m \u001b[0maccuracy\u001b[0m  \u001b[1;33m=\u001b[0m \u001b[0mmodel\u001b[0m\u001b[1;33m.\u001b[0m\u001b[0mevaluate\u001b[0m\u001b[1;33m(\u001b[0m\u001b[0mconv_test_data\u001b[0m\u001b[1;33m,\u001b[0m \u001b[0mtest_labels\u001b[0m\u001b[1;33m,\u001b[0m \u001b[0mverbose\u001b[0m\u001b[1;33m=\u001b[0m\u001b[1;32mFalse\u001b[0m\u001b[1;33m)\u001b[0m\u001b[1;33m\u001b[0m\u001b[1;33m\u001b[0m\u001b[0m\n\u001b[0;32m     27\u001b[0m     \u001b[1;32melse\u001b[0m\u001b[1;33m:\u001b[0m\u001b[1;33m\u001b[0m\u001b[1;33m\u001b[0m\u001b[0m\n\u001b[1;32m---> 28\u001b[1;33m         \u001b[0mloss\u001b[0m\u001b[1;33m,\u001b[0m \u001b[0maccuracy\u001b[0m  \u001b[1;33m=\u001b[0m \u001b[0mmodel\u001b[0m\u001b[1;33m.\u001b[0m\u001b[0mevaluate\u001b[0m\u001b[1;33m(\u001b[0m\u001b[0mtest_data\u001b[0m\u001b[1;33m,\u001b[0m \u001b[0mtest_labels\u001b[0m\u001b[1;33m,\u001b[0m \u001b[0mverbose\u001b[0m\u001b[1;33m=\u001b[0m\u001b[1;32mFalse\u001b[0m\u001b[1;33m)\u001b[0m\u001b[1;33m\u001b[0m\u001b[1;33m\u001b[0m\u001b[0m\n\u001b[0m\u001b[0;32m     29\u001b[0m \u001b[1;33m\u001b[0m\u001b[0m\n\u001b[0;32m     30\u001b[0m     \u001b[0mprint\u001b[0m\u001b[1;33m(\u001b[0m\u001b[1;34mf'Test loss: {loss:.3}'\u001b[0m\u001b[1;33m)\u001b[0m\u001b[1;33m\u001b[0m\u001b[1;33m\u001b[0m\u001b[0m\n",
      "\u001b[1;31mNameError\u001b[0m: name 'test_data' is not defined"
     ]
    }
   ],
   "source": [
    "# Previously, we flattened our training data, but now we INTEND on having 2D input data.\n",
    "# training_images => 256 x 256 matrix\n",
    "# Plus one small caveat: we have to indicate the number of color channels explicitly as a dimension...\n",
    "history = model.fit(\n",
    "    x=train_images_np,\n",
    "    y=y_train,\n",
    "    validation_data=(test_images_np, y_test),\n",
    "#     batch_size=128,\n",
    "    epochs=2,\n",
    "    verbose=True,\n",
    ")\n",
    "plot_training_history(history, model, eval_images=False)"
   ]
  },
  {
   "cell_type": "markdown",
   "metadata": {},
   "source": [
    "# Check F1_score"
   ]
  },
  {
   "cell_type": "code",
   "execution_count": 60,
   "metadata": {},
   "outputs": [
    {
     "name": "stdout",
     "output_type": "stream",
     "text": [
      "CNN_Model: \n",
      "0.10178922670858633\n"
     ]
    }
   ],
   "source": [
    "y_test=pd.DataFrame(test_df['expression'])\n",
    "y_test['expression']=le.fit_transform(y_test['expression'])\n",
    "y_test = y_test['expression']\n",
    "\n",
    "y_pred = model.predict_classes(test_images_np)\n",
    "\n",
    "print('CNN_Model: ')\n",
    "print(f1_score(y_test, y_pred, average='macro'))\n"
   ]
  },
  {
   "cell_type": "markdown",
   "metadata": {},
   "source": [
    "# Insights:\n",
    "\n",
    "Although the results are unsatisfactory for the CNN model, there is a lot of room for improvement.\n",
    "\n",
    "Neural Networks require lot of training and even more time on hyper parameter tuning.\n",
    "\n",
    "We can make use of library like `TALOS` or `Keras-Tuner` for those tasks.\n",
    "\n",
    "But given the time limit and the task at hand, I would like to prefer to have `RidgeClassfierCV` model with original images without augumentation (we were not told anything about the usage of model and hence the assumption, we will work only on portrait images)"
   ]
  },
  {
   "cell_type": "markdown",
   "metadata": {},
   "source": [
    "# Final Model\n",
    "## Data Loading\n",
    "## Preprocessing and Label Generation\n",
    "## Train/Test Split"
   ]
  },
  {
   "cell_type": "code",
   "execution_count": 63,
   "metadata": {},
   "outputs": [
    {
     "name": "stdout",
     "output_type": "stream",
     "text": [
      "(143, 34596)\n",
      "(70, 34596)\n"
     ]
    }
   ],
   "source": [
    "# Read all the images and the names\n",
    "source_images, img_details_df = read_images(r'C:\\Users\\samu0315\\Downloads\\Expression Data\\Expression Data')\n",
    "\n",
    "# label encode the target variable i.e., Expression\n",
    "le = preprocessing.LabelEncoder()\n",
    "img_details_df['expression']=le.fit_transform(img_details_df['expression'])\n",
    "\n",
    "#  Make Test and Train split in images\n",
    "\n",
    "src_path = r'C:\\Users\\samu0315\\Downloads\\Expression Data\\Expression Data'\n",
    "Train_path = r'C:\\Users\\samu0315\\Desktop\\Mine\\Personal\\gl_aiml\\interview\\Interview for tuple\\Train_Images'\n",
    "Test_path = r'C:\\Users\\samu0315\\Desktop\\Mine\\Personal\\gl_aiml\\interview\\Interview for tuple\\Test_Images'\n",
    "\n",
    "\n",
    "# Create test and train images from the actual images \n",
    "# and we shall take 7 images per person with each expression in test set to get perfect evaluation\n",
    "create_test_train(img_details_df,src_path,Train_path,Test_path,7)\n",
    "\n",
    "# Read the images from the source dirs for test and train\n",
    "\n",
    "train_images, train_df = read_images(Train_path)\n",
    "train_df['image'] = train_images\n",
    "\n",
    "test_images, test_df = read_images(Test_path)\n",
    "test_df['image'] = test_images\n",
    "\n",
    "# Prepare X_Test and X_Train\n",
    "\n",
    "X_train=train_df['image']\n",
    "y_train=pd.DataFrame(train_df['expression'])\n",
    "y_train['expression']=le.fit_transform(y_train['expression'])\n",
    "\n",
    "X_test=test_df['image']\n",
    "y_test=pd.DataFrame(test_df['expression'])\n",
    "y_test['expression']=le.fit_transform(y_test['expression'])\n",
    "\n",
    "X_train_prepared = normalize_train_data(X_train)\n",
    "\n",
    "X_test_prepared = normalize_train_data(X_test)"
   ]
  },
  {
   "cell_type": "markdown",
   "metadata": {},
   "source": [
    "## Model Training\n",
    "## Model Evaluation"
   ]
  },
  {
   "cell_type": "code",
   "execution_count": 65,
   "metadata": {},
   "outputs": [
    {
     "name": "stdout",
     "output_type": "stream",
     "text": [
      "RidgeClassifierCV: f1_score is \n",
      "0.9431153641679958\n"
     ]
    }
   ],
   "source": [
    "from sklearn.linear_model import RidgeClassifierCV\n",
    "from sklearn.metrics import f1_score\n",
    "\n",
    "clf = RidgeClassifierCV(cv = 5).fit(X_train_prepared, y_train)\n",
    "\n",
    "y_pred = clf.predict(X_test_prepared)\n",
    "\n",
    "print('RidgeClassifierCV: f1_score is ')\n",
    "print(f1_score(y_test, y_pred, average='macro'))"
   ]
  },
  {
   "cell_type": "code",
   "execution_count": 66,
   "metadata": {},
   "outputs": [
    {
     "name": "stdout",
     "output_type": "stream",
     "text": [
      "              precision    recall  f1-score   support\n",
      "\n",
      "           0       1.00      0.90      0.95        10\n",
      "           1       1.00      1.00      1.00        10\n",
      "           2       1.00      0.80      0.89        10\n",
      "           3       0.83      1.00      0.91        10\n",
      "           4       1.00      1.00      1.00        10\n",
      "           5       1.00      0.90      0.95        10\n",
      "           6       0.83      1.00      0.91        10\n",
      "\n",
      "    accuracy                           0.94        70\n",
      "   macro avg       0.95      0.94      0.94        70\n",
      "weighted avg       0.95      0.94      0.94        70\n",
      "\n"
     ]
    }
   ],
   "source": [
    "# Classification Report\n",
    "\n",
    "from sklearn.metrics import classification_report\n",
    "print(classification_report(y_test, y_pred))"
   ]
  },
  {
   "cell_type": "markdown",
   "metadata": {},
   "source": [
    "# Final Thoughts:\n",
    "\n",
    "1. Simple models are always preferred in Industry as the training is simple and easy to maintain.\n",
    "2. Deep Learning models are better when normal ML models are not working as per expectation.\n",
    "3. Prediction time is also very important and in this case simple models always beat Deep Learning models.\n",
    "4. Deep Learning is complex but will yeild very good results if given ample time and large data volumes.\n",
    "\n",
    "This task is aimed to building a model to get better performing model on a dataset with portrait images and on this, linear models work very well than deep learning models and boosting models with trees."
   ]
  }
 ],
 "metadata": {
  "kernelspec": {
   "display_name": "Python 3",
   "language": "python",
   "name": "python3"
  },
  "language_info": {
   "codemirror_mode": {
    "name": "ipython",
    "version": 3
   },
   "file_extension": ".py",
   "mimetype": "text/x-python",
   "name": "python",
   "nbconvert_exporter": "python",
   "pygments_lexer": "ipython3",
   "version": "3.7.4"
  },
  "toc": {
   "base_numbering": 1,
   "nav_menu": {},
   "number_sections": true,
   "sideBar": true,
   "skip_h1_title": false,
   "title_cell": "Table of Contents",
   "title_sidebar": "Contents",
   "toc_cell": true,
   "toc_position": {},
   "toc_section_display": true,
   "toc_window_display": true
  }
 },
 "nbformat": 4,
 "nbformat_minor": 2
}
